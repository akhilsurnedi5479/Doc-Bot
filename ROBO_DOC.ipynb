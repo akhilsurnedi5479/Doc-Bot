{
 "cells": [
  {
   "cell_type": "code",
   "execution_count": 1,
   "metadata": {
    "tags": []
   },
   "outputs": [],
   "source": [
    "import pandas as pd\n",
    "import numpy as np\n",
    "from nltk.corpus import wordnet as wn \n",
    "import csv\n",
    "import json"
   ]
  },
  {
   "cell_type": "code",
   "execution_count": 2,
   "metadata": {
    "tags": []
   },
   "outputs": [],
   "source": [
    "import warnings\n",
    "\n",
    "warnings.filterwarnings(\"ignore\", category=DeprecationWarning, module=\"sklearn\")\n",
    "\n"
   ]
  },
  {
   "cell_type": "code",
   "execution_count": 3,
   "metadata": {
    "tags": []
   },
   "outputs": [],
   "source": [
    "data={\"users\":[]}\n",
    "with open('DATA.json', 'w') as outfile:\n",
    "    json.dump(data, outfile)"
   ]
  },
  {
   "cell_type": "code",
   "execution_count": 4,
   "metadata": {
    "tags": []
   },
   "outputs": [],
   "source": [
    "def write_json(new_data, filename='DATA.json'):\n",
    "    with open(filename,'r+') as file:\n",
    "          # First we load existing data into a dict.\n",
    "        file_data = json.load(file)\n",
    "        # Join new_data with file_data inside emp_details\n",
    "        file_data[\"users\"].append(new_data)\n",
    "        # Sets file's current position at offset.\n",
    "        file.seek(0)\n",
    "        # convert back to json.\n",
    "        json.dump(file_data, file, indent = 4)\n",
    " "
   ]
  },
  {
   "cell_type": "code",
   "execution_count": 5,
   "metadata": {
    "tags": []
   },
   "outputs": [],
   "source": [
    "df_tr=pd.read_csv('Medical_dataset/Training.csv')"
   ]
  },
  {
   "cell_type": "code",
   "execution_count": 6,
   "metadata": {
    "tags": []
   },
   "outputs": [
    {
     "data": {
      "text/html": [
       "<div>\n",
       "<style scoped>\n",
       "    .dataframe tbody tr th:only-of-type {\n",
       "        vertical-align: middle;\n",
       "    }\n",
       "\n",
       "    .dataframe tbody tr th {\n",
       "        vertical-align: top;\n",
       "    }\n",
       "\n",
       "    .dataframe thead th {\n",
       "        text-align: right;\n",
       "    }\n",
       "</style>\n",
       "<table border=\"1\" class=\"dataframe\">\n",
       "  <thead>\n",
       "    <tr style=\"text-align: right;\">\n",
       "      <th></th>\n",
       "      <th>itching</th>\n",
       "      <th>skin_rash</th>\n",
       "      <th>nodal_skin_eruptions</th>\n",
       "      <th>continuous_sneezing</th>\n",
       "      <th>shivering</th>\n",
       "      <th>chills</th>\n",
       "      <th>joint_pain</th>\n",
       "      <th>stomach_pain</th>\n",
       "      <th>acidity</th>\n",
       "      <th>ulcers_on_tongue</th>\n",
       "      <th>...</th>\n",
       "      <th>blackheads</th>\n",
       "      <th>scurring</th>\n",
       "      <th>skin_peeling</th>\n",
       "      <th>silver_like_dusting</th>\n",
       "      <th>small_dents_in_nails</th>\n",
       "      <th>inflammatory_nails</th>\n",
       "      <th>blister</th>\n",
       "      <th>red_sore_around_nose</th>\n",
       "      <th>yellow_crust_ooze</th>\n",
       "      <th>prognosis</th>\n",
       "    </tr>\n",
       "  </thead>\n",
       "  <tbody>\n",
       "    <tr>\n",
       "      <th>0</th>\n",
       "      <td>1</td>\n",
       "      <td>1</td>\n",
       "      <td>1</td>\n",
       "      <td>0</td>\n",
       "      <td>0</td>\n",
       "      <td>0</td>\n",
       "      <td>0</td>\n",
       "      <td>0</td>\n",
       "      <td>0</td>\n",
       "      <td>0</td>\n",
       "      <td>...</td>\n",
       "      <td>0</td>\n",
       "      <td>0</td>\n",
       "      <td>0</td>\n",
       "      <td>0</td>\n",
       "      <td>0</td>\n",
       "      <td>0</td>\n",
       "      <td>0</td>\n",
       "      <td>0</td>\n",
       "      <td>0</td>\n",
       "      <td>Fungal infection</td>\n",
       "    </tr>\n",
       "    <tr>\n",
       "      <th>1</th>\n",
       "      <td>0</td>\n",
       "      <td>1</td>\n",
       "      <td>1</td>\n",
       "      <td>0</td>\n",
       "      <td>0</td>\n",
       "      <td>0</td>\n",
       "      <td>0</td>\n",
       "      <td>0</td>\n",
       "      <td>0</td>\n",
       "      <td>0</td>\n",
       "      <td>...</td>\n",
       "      <td>0</td>\n",
       "      <td>0</td>\n",
       "      <td>0</td>\n",
       "      <td>0</td>\n",
       "      <td>0</td>\n",
       "      <td>0</td>\n",
       "      <td>0</td>\n",
       "      <td>0</td>\n",
       "      <td>0</td>\n",
       "      <td>Fungal infection</td>\n",
       "    </tr>\n",
       "    <tr>\n",
       "      <th>2</th>\n",
       "      <td>1</td>\n",
       "      <td>0</td>\n",
       "      <td>1</td>\n",
       "      <td>0</td>\n",
       "      <td>0</td>\n",
       "      <td>0</td>\n",
       "      <td>0</td>\n",
       "      <td>0</td>\n",
       "      <td>0</td>\n",
       "      <td>0</td>\n",
       "      <td>...</td>\n",
       "      <td>0</td>\n",
       "      <td>0</td>\n",
       "      <td>0</td>\n",
       "      <td>0</td>\n",
       "      <td>0</td>\n",
       "      <td>0</td>\n",
       "      <td>0</td>\n",
       "      <td>0</td>\n",
       "      <td>0</td>\n",
       "      <td>Fungal infection</td>\n",
       "    </tr>\n",
       "    <tr>\n",
       "      <th>3</th>\n",
       "      <td>1</td>\n",
       "      <td>1</td>\n",
       "      <td>0</td>\n",
       "      <td>0</td>\n",
       "      <td>0</td>\n",
       "      <td>0</td>\n",
       "      <td>0</td>\n",
       "      <td>0</td>\n",
       "      <td>0</td>\n",
       "      <td>0</td>\n",
       "      <td>...</td>\n",
       "      <td>0</td>\n",
       "      <td>0</td>\n",
       "      <td>0</td>\n",
       "      <td>0</td>\n",
       "      <td>0</td>\n",
       "      <td>0</td>\n",
       "      <td>0</td>\n",
       "      <td>0</td>\n",
       "      <td>0</td>\n",
       "      <td>Fungal infection</td>\n",
       "    </tr>\n",
       "    <tr>\n",
       "      <th>4</th>\n",
       "      <td>1</td>\n",
       "      <td>1</td>\n",
       "      <td>1</td>\n",
       "      <td>0</td>\n",
       "      <td>0</td>\n",
       "      <td>0</td>\n",
       "      <td>0</td>\n",
       "      <td>0</td>\n",
       "      <td>0</td>\n",
       "      <td>0</td>\n",
       "      <td>...</td>\n",
       "      <td>0</td>\n",
       "      <td>0</td>\n",
       "      <td>0</td>\n",
       "      <td>0</td>\n",
       "      <td>0</td>\n",
       "      <td>0</td>\n",
       "      <td>0</td>\n",
       "      <td>0</td>\n",
       "      <td>0</td>\n",
       "      <td>Fungal infection</td>\n",
       "    </tr>\n",
       "  </tbody>\n",
       "</table>\n",
       "<p>5 rows × 133 columns</p>\n",
       "</div>"
      ],
      "text/plain": [
       "   itching  skin_rash  nodal_skin_eruptions  continuous_sneezing  shivering  \\\n",
       "0        1          1                     1                    0          0   \n",
       "1        0          1                     1                    0          0   \n",
       "2        1          0                     1                    0          0   \n",
       "3        1          1                     0                    0          0   \n",
       "4        1          1                     1                    0          0   \n",
       "\n",
       "   chills  joint_pain  stomach_pain  acidity  ulcers_on_tongue  ...  \\\n",
       "0       0           0             0        0                 0  ...   \n",
       "1       0           0             0        0                 0  ...   \n",
       "2       0           0             0        0                 0  ...   \n",
       "3       0           0             0        0                 0  ...   \n",
       "4       0           0             0        0                 0  ...   \n",
       "\n",
       "   blackheads  scurring  skin_peeling  silver_like_dusting  \\\n",
       "0           0         0             0                    0   \n",
       "1           0         0             0                    0   \n",
       "2           0         0             0                    0   \n",
       "3           0         0             0                    0   \n",
       "4           0         0             0                    0   \n",
       "\n",
       "   small_dents_in_nails  inflammatory_nails  blister  red_sore_around_nose  \\\n",
       "0                     0                   0        0                     0   \n",
       "1                     0                   0        0                     0   \n",
       "2                     0                   0        0                     0   \n",
       "3                     0                   0        0                     0   \n",
       "4                     0                   0        0                     0   \n",
       "\n",
       "   yellow_crust_ooze         prognosis  \n",
       "0                  0  Fungal infection  \n",
       "1                  0  Fungal infection  \n",
       "2                  0  Fungal infection  \n",
       "3                  0  Fungal infection  \n",
       "4                  0  Fungal infection  \n",
       "\n",
       "[5 rows x 133 columns]"
      ]
     },
     "execution_count": 6,
     "metadata": {},
     "output_type": "execute_result"
    }
   ],
   "source": [
    "df_tr.head()"
   ]
  },
  {
   "cell_type": "code",
   "execution_count": 7,
   "metadata": {
    "tags": []
   },
   "outputs": [
    {
     "data": {
      "text/plain": [
       "(4920, 133)"
      ]
     },
     "execution_count": 7,
     "metadata": {},
     "output_type": "execute_result"
    }
   ],
   "source": [
    "df_tr.shape"
   ]
  },
  {
   "cell_type": "code",
   "execution_count": 8,
   "metadata": {
    "tags": []
   },
   "outputs": [
    {
     "data": {
      "text/plain": [
       "itching                        0\n",
       "skin_rash                      1\n",
       "nodal_skin_eruptions           0\n",
       "continuous_sneezing            0\n",
       "shivering                      0\n",
       "                          ...   \n",
       "inflammatory_nails             0\n",
       "blister                        1\n",
       "red_sore_around_nose           1\n",
       "yellow_crust_ooze              1\n",
       "prognosis               Impetigo\n",
       "Name: 4919, Length: 133, dtype: object"
      ]
     },
     "execution_count": 8,
     "metadata": {},
     "output_type": "execute_result"
    }
   ],
   "source": [
    "df_tr.iloc[-1]"
   ]
  },
  {
   "cell_type": "code",
   "execution_count": 9,
   "metadata": {
    "tags": []
   },
   "outputs": [],
   "source": [
    "df_tt=pd.read_csv('Medical_dataset/Testing.csv')"
   ]
  },
  {
   "cell_type": "code",
   "execution_count": 10,
   "metadata": {
    "tags": []
   },
   "outputs": [
    {
     "data": {
      "text/html": [
       "<div>\n",
       "<style scoped>\n",
       "    .dataframe tbody tr th:only-of-type {\n",
       "        vertical-align: middle;\n",
       "    }\n",
       "\n",
       "    .dataframe tbody tr th {\n",
       "        vertical-align: top;\n",
       "    }\n",
       "\n",
       "    .dataframe thead th {\n",
       "        text-align: right;\n",
       "    }\n",
       "</style>\n",
       "<table border=\"1\" class=\"dataframe\">\n",
       "  <thead>\n",
       "    <tr style=\"text-align: right;\">\n",
       "      <th></th>\n",
       "      <th>itching</th>\n",
       "      <th>skin_rash</th>\n",
       "      <th>nodal_skin_eruptions</th>\n",
       "      <th>continuous_sneezing</th>\n",
       "      <th>shivering</th>\n",
       "      <th>chills</th>\n",
       "      <th>joint_pain</th>\n",
       "      <th>stomach_pain</th>\n",
       "      <th>acidity</th>\n",
       "      <th>ulcers_on_tongue</th>\n",
       "      <th>...</th>\n",
       "      <th>blackheads</th>\n",
       "      <th>scurring</th>\n",
       "      <th>skin_peeling</th>\n",
       "      <th>silver_like_dusting</th>\n",
       "      <th>small_dents_in_nails</th>\n",
       "      <th>inflammatory_nails</th>\n",
       "      <th>blister</th>\n",
       "      <th>red_sore_around_nose</th>\n",
       "      <th>yellow_crust_ooze</th>\n",
       "      <th>prognosis</th>\n",
       "    </tr>\n",
       "  </thead>\n",
       "  <tbody>\n",
       "    <tr>\n",
       "      <th>0</th>\n",
       "      <td>1</td>\n",
       "      <td>1</td>\n",
       "      <td>1</td>\n",
       "      <td>0</td>\n",
       "      <td>0</td>\n",
       "      <td>0</td>\n",
       "      <td>0</td>\n",
       "      <td>0</td>\n",
       "      <td>0</td>\n",
       "      <td>0</td>\n",
       "      <td>...</td>\n",
       "      <td>0</td>\n",
       "      <td>0</td>\n",
       "      <td>0</td>\n",
       "      <td>0</td>\n",
       "      <td>0</td>\n",
       "      <td>0</td>\n",
       "      <td>0</td>\n",
       "      <td>0</td>\n",
       "      <td>0</td>\n",
       "      <td>Fungal infection</td>\n",
       "    </tr>\n",
       "    <tr>\n",
       "      <th>1</th>\n",
       "      <td>0</td>\n",
       "      <td>0</td>\n",
       "      <td>0</td>\n",
       "      <td>1</td>\n",
       "      <td>1</td>\n",
       "      <td>1</td>\n",
       "      <td>0</td>\n",
       "      <td>0</td>\n",
       "      <td>0</td>\n",
       "      <td>0</td>\n",
       "      <td>...</td>\n",
       "      <td>0</td>\n",
       "      <td>0</td>\n",
       "      <td>0</td>\n",
       "      <td>0</td>\n",
       "      <td>0</td>\n",
       "      <td>0</td>\n",
       "      <td>0</td>\n",
       "      <td>0</td>\n",
       "      <td>0</td>\n",
       "      <td>Allergy</td>\n",
       "    </tr>\n",
       "    <tr>\n",
       "      <th>2</th>\n",
       "      <td>0</td>\n",
       "      <td>0</td>\n",
       "      <td>0</td>\n",
       "      <td>0</td>\n",
       "      <td>0</td>\n",
       "      <td>0</td>\n",
       "      <td>0</td>\n",
       "      <td>1</td>\n",
       "      <td>1</td>\n",
       "      <td>1</td>\n",
       "      <td>...</td>\n",
       "      <td>0</td>\n",
       "      <td>0</td>\n",
       "      <td>0</td>\n",
       "      <td>0</td>\n",
       "      <td>0</td>\n",
       "      <td>0</td>\n",
       "      <td>0</td>\n",
       "      <td>0</td>\n",
       "      <td>0</td>\n",
       "      <td>GERD</td>\n",
       "    </tr>\n",
       "    <tr>\n",
       "      <th>3</th>\n",
       "      <td>1</td>\n",
       "      <td>0</td>\n",
       "      <td>0</td>\n",
       "      <td>0</td>\n",
       "      <td>0</td>\n",
       "      <td>0</td>\n",
       "      <td>0</td>\n",
       "      <td>0</td>\n",
       "      <td>0</td>\n",
       "      <td>0</td>\n",
       "      <td>...</td>\n",
       "      <td>0</td>\n",
       "      <td>0</td>\n",
       "      <td>0</td>\n",
       "      <td>0</td>\n",
       "      <td>0</td>\n",
       "      <td>0</td>\n",
       "      <td>0</td>\n",
       "      <td>0</td>\n",
       "      <td>0</td>\n",
       "      <td>Chronic cholestasis</td>\n",
       "    </tr>\n",
       "    <tr>\n",
       "      <th>4</th>\n",
       "      <td>1</td>\n",
       "      <td>1</td>\n",
       "      <td>0</td>\n",
       "      <td>0</td>\n",
       "      <td>0</td>\n",
       "      <td>0</td>\n",
       "      <td>0</td>\n",
       "      <td>1</td>\n",
       "      <td>0</td>\n",
       "      <td>0</td>\n",
       "      <td>...</td>\n",
       "      <td>0</td>\n",
       "      <td>0</td>\n",
       "      <td>0</td>\n",
       "      <td>0</td>\n",
       "      <td>0</td>\n",
       "      <td>0</td>\n",
       "      <td>0</td>\n",
       "      <td>0</td>\n",
       "      <td>0</td>\n",
       "      <td>Drug Reaction</td>\n",
       "    </tr>\n",
       "  </tbody>\n",
       "</table>\n",
       "<p>5 rows × 133 columns</p>\n",
       "</div>"
      ],
      "text/plain": [
       "   itching  skin_rash  nodal_skin_eruptions  continuous_sneezing  shivering  \\\n",
       "0        1          1                     1                    0          0   \n",
       "1        0          0                     0                    1          1   \n",
       "2        0          0                     0                    0          0   \n",
       "3        1          0                     0                    0          0   \n",
       "4        1          1                     0                    0          0   \n",
       "\n",
       "   chills  joint_pain  stomach_pain  acidity  ulcers_on_tongue  ...  \\\n",
       "0       0           0             0        0                 0  ...   \n",
       "1       1           0             0        0                 0  ...   \n",
       "2       0           0             1        1                 1  ...   \n",
       "3       0           0             0        0                 0  ...   \n",
       "4       0           0             1        0                 0  ...   \n",
       "\n",
       "   blackheads  scurring  skin_peeling  silver_like_dusting  \\\n",
       "0           0         0             0                    0   \n",
       "1           0         0             0                    0   \n",
       "2           0         0             0                    0   \n",
       "3           0         0             0                    0   \n",
       "4           0         0             0                    0   \n",
       "\n",
       "   small_dents_in_nails  inflammatory_nails  blister  red_sore_around_nose  \\\n",
       "0                     0                   0        0                     0   \n",
       "1                     0                   0        0                     0   \n",
       "2                     0                   0        0                     0   \n",
       "3                     0                   0        0                     0   \n",
       "4                     0                   0        0                     0   \n",
       "\n",
       "   yellow_crust_ooze            prognosis  \n",
       "0                  0     Fungal infection  \n",
       "1                  0              Allergy  \n",
       "2                  0                 GERD  \n",
       "3                  0  Chronic cholestasis  \n",
       "4                  0        Drug Reaction  \n",
       "\n",
       "[5 rows x 133 columns]"
      ]
     },
     "execution_count": 10,
     "metadata": {},
     "output_type": "execute_result"
    }
   ],
   "source": [
    "df_tt.head()"
   ]
  },
  {
   "cell_type": "code",
   "execution_count": 11,
   "metadata": {
    "tags": []
   },
   "outputs": [],
   "source": [
    "symp=[]\n",
    "disease=[]\n",
    "for i in range(len(df_tr)):\n",
    "    symp.append(df_tr.columns[df_tr.iloc[i]==1].to_list())\n",
    "    disease.append(df_tr.iloc[i,-1])"
   ]
  },
  {
   "cell_type": "code",
   "execution_count": 12,
   "metadata": {
    "tags": []
   },
   "outputs": [
    {
     "data": {
      "text/plain": [
       "['itching', 'skin_rash', 'nodal_skin_eruptions', 'dischromic _patches']"
      ]
     },
     "execution_count": 12,
     "metadata": {},
     "output_type": "execute_result"
    }
   ],
   "source": [
    "symp[0]"
   ]
  },
  {
   "cell_type": "code",
   "execution_count": 13,
   "metadata": {
    "tags": []
   },
   "outputs": [
    {
     "data": {
      "text/plain": [
       "'Peptic ulcer diseae'"
      ]
     },
     "execution_count": 13,
     "metadata": {},
     "output_type": "execute_result"
    }
   ],
   "source": [
    "disease[50]"
   ]
  },
  {
   "cell_type": "markdown",
   "metadata": {},
   "source": [
    "# I- GET ALL SYMPTOMS"
   ]
  },
  {
   "cell_type": "code",
   "execution_count": 14,
   "metadata": {
    "tags": []
   },
   "outputs": [],
   "source": [
    "all_symp_col=list(df_tr.columns[:-1])\n",
    "def clean_symp(sym):\n",
    "    return sym.replace('_',' ').replace('.1','').replace('(typhos)','').replace('yellowish','yellow').replace('yellowing','yellow') "
   ]
  },
  {
   "cell_type": "code",
   "execution_count": 15,
   "metadata": {
    "tags": []
   },
   "outputs": [],
   "source": [
    "all_symp=[clean_symp(sym) for sym in (all_symp_col)]"
   ]
  },
  {
   "cell_type": "code",
   "execution_count": 16,
   "metadata": {
    "tags": []
   },
   "outputs": [],
   "source": [
    "## get all symptoms which do not have a synset\n",
    "ohne_syns=[]\n",
    "mit_syns=[]\n",
    "for sym in all_symp:\n",
    "    if not wn.synsets(sym) :\n",
    "        ohne_syns.append(sym)\n",
    "    else:\n",
    "        mit_syns.append(sym)"
   ]
  },
  {
   "cell_type": "code",
   "execution_count": 17,
   "metadata": {
    "tags": []
   },
   "outputs": [
    {
     "data": {
      "text/plain": [
       "33"
      ]
     },
     "execution_count": 17,
     "metadata": {},
     "output_type": "execute_result"
    }
   ],
   "source": [
    "len(mit_syns)"
   ]
  },
  {
   "cell_type": "code",
   "execution_count": 18,
   "metadata": {
    "tags": []
   },
   "outputs": [
    {
     "data": {
      "text/plain": [
       "99"
      ]
     },
     "execution_count": 18,
     "metadata": {},
     "output_type": "execute_result"
    }
   ],
   "source": [
    "len(ohne_syns)"
   ]
  },
  {
   "cell_type": "markdown",
   "metadata": {},
   "source": [
    "# II- Preprocess text"
   ]
  },
  {
   "cell_type": "code",
   "execution_count": 19,
   "metadata": {
    "tags": []
   },
   "outputs": [
    {
     "name": "stdout",
     "output_type": "stream",
     "text": [
      "Requirement already satisfied: spacy in /Users/akhilsurnedi/anaconda3/envs/tensorflow/lib/python3.9/site-packages (3.7.2)\n",
      "Requirement already satisfied: setuptools in /Users/akhilsurnedi/anaconda3/envs/tensorflow/lib/python3.9/site-packages (from spacy) (65.6.3)\n",
      "Requirement already satisfied: typer<0.10.0,>=0.3.0 in /Users/akhilsurnedi/anaconda3/envs/tensorflow/lib/python3.9/site-packages (from spacy) (0.9.0)\n",
      "Requirement already satisfied: srsly<3.0.0,>=2.4.3 in /Users/akhilsurnedi/anaconda3/envs/tensorflow/lib/python3.9/site-packages (from spacy) (2.4.8)\n",
      "Requirement already satisfied: packaging>=20.0 in /Users/akhilsurnedi/anaconda3/envs/tensorflow/lib/python3.9/site-packages (from spacy) (23.1)\n",
      "Requirement already satisfied: requests<3.0.0,>=2.13.0 in /Users/akhilsurnedi/anaconda3/envs/tensorflow/lib/python3.9/site-packages (from spacy) (2.28.2)\n",
      "Requirement already satisfied: wasabi<1.2.0,>=0.9.1 in /Users/akhilsurnedi/anaconda3/envs/tensorflow/lib/python3.9/site-packages (from spacy) (1.1.2)\n",
      "Requirement already satisfied: spacy-loggers<2.0.0,>=1.0.0 in /Users/akhilsurnedi/anaconda3/envs/tensorflow/lib/python3.9/site-packages (from spacy) (1.0.5)\n",
      "Requirement already satisfied: tqdm<5.0.0,>=4.38.0 in /Users/akhilsurnedi/anaconda3/envs/tensorflow/lib/python3.9/site-packages (from spacy) (4.65.0)\n",
      "Requirement already satisfied: cymem<2.1.0,>=2.0.2 in /Users/akhilsurnedi/anaconda3/envs/tensorflow/lib/python3.9/site-packages (from spacy) (2.0.8)\n",
      "Requirement already satisfied: langcodes<4.0.0,>=3.2.0 in /Users/akhilsurnedi/anaconda3/envs/tensorflow/lib/python3.9/site-packages (from spacy) (3.3.0)\n",
      "Requirement already satisfied: murmurhash<1.1.0,>=0.28.0 in /Users/akhilsurnedi/anaconda3/envs/tensorflow/lib/python3.9/site-packages (from spacy) (1.0.10)\n",
      "Requirement already satisfied: thinc<8.3.0,>=8.1.8 in /Users/akhilsurnedi/anaconda3/envs/tensorflow/lib/python3.9/site-packages (from spacy) (8.2.1)\n",
      "Requirement already satisfied: weasel<0.4.0,>=0.1.0 in /Users/akhilsurnedi/anaconda3/envs/tensorflow/lib/python3.9/site-packages (from spacy) (0.3.4)\n",
      "Requirement already satisfied: spacy-legacy<3.1.0,>=3.0.11 in /Users/akhilsurnedi/anaconda3/envs/tensorflow/lib/python3.9/site-packages (from spacy) (3.0.12)\n",
      "Requirement already satisfied: preshed<3.1.0,>=3.0.2 in /Users/akhilsurnedi/anaconda3/envs/tensorflow/lib/python3.9/site-packages (from spacy) (3.0.9)\n",
      "Requirement already satisfied: jinja2 in /Users/akhilsurnedi/anaconda3/envs/tensorflow/lib/python3.9/site-packages (from spacy) (3.1.2)\n",
      "Requirement already satisfied: numpy>=1.19.0 in /Users/akhilsurnedi/anaconda3/envs/tensorflow/lib/python3.9/site-packages (from spacy) (1.23.5)\n",
      "Requirement already satisfied: smart-open<7.0.0,>=5.2.1 in /Users/akhilsurnedi/anaconda3/envs/tensorflow/lib/python3.9/site-packages (from spacy) (6.3.0)\n",
      "Requirement already satisfied: pydantic!=1.8,!=1.8.1,<3.0.0,>=1.7.4 in /Users/akhilsurnedi/anaconda3/envs/tensorflow/lib/python3.9/site-packages (from spacy) (2.4.2)\n",
      "Requirement already satisfied: catalogue<2.1.0,>=2.0.6 in /Users/akhilsurnedi/anaconda3/envs/tensorflow/lib/python3.9/site-packages (from spacy) (2.0.10)\n",
      "Requirement already satisfied: typing-extensions>=4.6.1 in /Users/akhilsurnedi/anaconda3/envs/tensorflow/lib/python3.9/site-packages (from pydantic!=1.8,!=1.8.1,<3.0.0,>=1.7.4->spacy) (4.8.0)\n",
      "Requirement already satisfied: annotated-types>=0.4.0 in /Users/akhilsurnedi/anaconda3/envs/tensorflow/lib/python3.9/site-packages (from pydantic!=1.8,!=1.8.1,<3.0.0,>=1.7.4->spacy) (0.6.0)\n",
      "Requirement already satisfied: pydantic-core==2.10.1 in /Users/akhilsurnedi/anaconda3/envs/tensorflow/lib/python3.9/site-packages (from pydantic!=1.8,!=1.8.1,<3.0.0,>=1.7.4->spacy) (2.10.1)\n",
      "Requirement already satisfied: charset-normalizer<4,>=2 in /Users/akhilsurnedi/anaconda3/envs/tensorflow/lib/python3.9/site-packages (from requests<3.0.0,>=2.13.0->spacy) (3.1.0)\n",
      "Requirement already satisfied: idna<4,>=2.5 in /Users/akhilsurnedi/anaconda3/envs/tensorflow/lib/python3.9/site-packages (from requests<3.0.0,>=2.13.0->spacy) (3.4)\n",
      "Requirement already satisfied: urllib3<1.27,>=1.21.1 in /Users/akhilsurnedi/anaconda3/envs/tensorflow/lib/python3.9/site-packages (from requests<3.0.0,>=2.13.0->spacy) (1.26.15)\n",
      "Requirement already satisfied: certifi>=2017.4.17 in /Users/akhilsurnedi/anaconda3/envs/tensorflow/lib/python3.9/site-packages (from requests<3.0.0,>=2.13.0->spacy) (2022.12.7)\n",
      "Requirement already satisfied: confection<1.0.0,>=0.0.1 in /Users/akhilsurnedi/anaconda3/envs/tensorflow/lib/python3.9/site-packages (from thinc<8.3.0,>=8.1.8->spacy) (0.1.3)\n",
      "Requirement already satisfied: blis<0.8.0,>=0.7.8 in /Users/akhilsurnedi/anaconda3/envs/tensorflow/lib/python3.9/site-packages (from thinc<8.3.0,>=8.1.8->spacy) (0.7.11)\n",
      "Requirement already satisfied: click<9.0.0,>=7.1.1 in /Users/akhilsurnedi/anaconda3/envs/tensorflow/lib/python3.9/site-packages (from typer<0.10.0,>=0.3.0->spacy) (8.1.3)\n",
      "Requirement already satisfied: cloudpathlib<0.17.0,>=0.7.0 in /Users/akhilsurnedi/anaconda3/envs/tensorflow/lib/python3.9/site-packages (from weasel<0.4.0,>=0.1.0->spacy) (0.16.0)\n",
      "Requirement already satisfied: MarkupSafe>=2.0 in /Users/akhilsurnedi/anaconda3/envs/tensorflow/lib/python3.9/site-packages (from jinja2->spacy) (2.1.2)\n",
      "Note: you may need to restart the kernel to use updated packages.\n"
     ]
    }
   ],
   "source": [
    "pip install spacy\n"
   ]
  },
  {
   "cell_type": "code",
   "execution_count": 20,
   "metadata": {
    "tags": []
   },
   "outputs": [],
   "source": [
    "# !python -m spacy download en_core_web_sm"
   ]
  },
  {
   "cell_type": "code",
   "execution_count": 21,
   "metadata": {
    "tags": []
   },
   "outputs": [],
   "source": [
    "from spacy.lang.en.stop_words import STOP_WORDS\n",
    "import spacy\n",
    "nlp = spacy.load('en_core_web_sm')"
   ]
  },
  {
   "cell_type": "code",
   "execution_count": 22,
   "metadata": {
    "tags": []
   },
   "outputs": [],
   "source": [
    "def preprocess(doc):\n",
    "    nlp_doc=nlp(doc)\n",
    "    d=[]\n",
    "    for token in nlp_doc:\n",
    "        if(not token.text.lower()  in STOP_WORDS and  token.text.isalpha()):\n",
    "            d.append(token.lemma_.lower() )\n",
    "    return ' '.join(d)"
   ]
  },
  {
   "cell_type": "code",
   "execution_count": 23,
   "metadata": {
    "tags": []
   },
   "outputs": [],
   "source": [
    "def preprocess_sym(doc):\n",
    "    nlp_doc=nlp(doc)\n",
    "    d=[]\n",
    "    for token in nlp_doc:\n",
    "        if(not token.text.lower()  in STOP_WORDS and  token.text.isalpha()):\n",
    "            d.append(token.lemma_.lower() )\n",
    "    return ' '.join(d)"
   ]
  },
  {
   "cell_type": "code",
   "execution_count": 24,
   "metadata": {
    "tags": []
   },
   "outputs": [
    {
     "data": {
      "text/plain": [
       "'skin peel'"
      ]
     },
     "execution_count": 24,
     "metadata": {},
     "output_type": "execute_result"
    }
   ],
   "source": [
    "preprocess(\"skin peeling\")"
   ]
  },
  {
   "cell_type": "code",
   "execution_count": 25,
   "metadata": {
    "tags": []
   },
   "outputs": [],
   "source": [
    "all_symp_pr=[preprocess_sym(sym) for sym in all_symp]"
   ]
  },
  {
   "cell_type": "code",
   "execution_count": 26,
   "metadata": {
    "tags": []
   },
   "outputs": [],
   "source": [
    "#associe chaque symp pretraite au non de sa colonne originale\n",
    "col_dict = dict(zip(all_symp_pr, all_symp_col))"
   ]
  },
  {
   "cell_type": "markdown",
   "metadata": {},
   "source": [
    "# III- Syntactic Similarity"
   ]
  },
  {
   "cell_type": "code",
   "execution_count": 27,
   "metadata": {
    "tags": []
   },
   "outputs": [],
   "source": [
    "def jaccard_set(str1, str2):\n",
    "    list1=str1.split(' ')\n",
    "    list2=str2.split(' ')\n",
    "    intersection = len(list(set(list1).intersection(list2)))\n",
    "    union = (len(list1) + len(list2)) - intersection\n",
    "    return float(intersection) / union"
   ]
  },
  {
   "cell_type": "code",
   "execution_count": 28,
   "metadata": {
    "tags": []
   },
   "outputs": [],
   "source": [
    "#similarite syn avec ts le corpus\n",
    "def syntactic_similarity(symp_t, corpus):\n",
    "    most_sim = []\n",
    "    poss_sym = []\n",
    "    for symp in corpus:\n",
    "        d = jaccard_set(symp_t, symp)\n",
    "        most_sim.append(d)\n",
    "    order = np.argsort(most_sim)[::-1].tolist()\n",
    "    for i in order:\n",
    "        if DoesExist(symp_t):\n",
    "            return 1, [corpus[i]]\n",
    "        if corpus[i] not in poss_sym and most_sim[i] != 0:\n",
    "            poss_sym.append(corpus[i])\n",
    "    if len(poss_sym):\n",
    "        return 1, poss_sym\n",
    "    else:\n",
    "        return 0, None\n",
    "\n"
   ]
  },
  {
   "cell_type": "code",
   "execution_count": 29,
   "metadata": {
    "tags": []
   },
   "outputs": [],
   "source": [
    "import itertools\n",
    "#Returns all the subsets of this set. This is a generator.\n",
    "def powerset(seq):\n",
    "    if len(seq) <= 1:\n",
    "        yield seq\n",
    "        yield []\n",
    "    else:\n",
    "        for item in powerset(seq[1:]):\n",
    "            yield [seq[0]]+item\n",
    "            yield item"
   ]
  },
  {
   "cell_type": "code",
   "execution_count": 30,
   "metadata": {
    "tags": []
   },
   "outputs": [],
   "source": [
    "#Sort list based on length\n",
    "def sort(a):\n",
    "    for i in range(len(a)):\n",
    "        for j in range(i+1,len(a)):\n",
    "            if len(a[j])>len(a[i]):\n",
    "                a[i],a[j]=a[j],a[i]\n",
    "    a.pop()\n",
    "    return a"
   ]
  },
  {
   "cell_type": "code",
   "execution_count": 31,
   "metadata": {
    "tags": []
   },
   "outputs": [],
   "source": [
    "# find all permutations of a list\n",
    "def permutations(s):\n",
    "    permutations = list(itertools.permutations(s))\n",
    "    return([' '.join(permutation) for permutation in permutations])"
   ]
  },
  {
   "cell_type": "code",
   "execution_count": 32,
   "metadata": {
    "tags": []
   },
   "outputs": [],
   "source": [
    "def DoesExist(txt):\n",
    "    txt=txt.split(' ')\n",
    "    combinations = [x for x in powerset(txt)]\n",
    "    sort(combinations)\n",
    "    for comb in combinations :\n",
    "        #print(permutations(comb))\n",
    "        for sym in permutations(comb):\n",
    "            if sym in all_symp_pr:\n",
    "                #print(sym)\n",
    "                return sym\n",
    "    return False\n",
    "    "
   ]
  },
  {
   "cell_type": "code",
   "execution_count": 33,
   "metadata": {
    "tags": []
   },
   "outputs": [
    {
     "data": {
      "text/plain": [
       "False"
      ]
     },
     "execution_count": 33,
     "metadata": {},
     "output_type": "execute_result"
    }
   ],
   "source": [
    "DoesExist('worried')"
   ]
  },
  {
   "cell_type": "code",
   "execution_count": 34,
   "metadata": {
    "tags": []
   },
   "outputs": [
    {
     "data": {
      "text/plain": [
       "'worried'"
      ]
     },
     "execution_count": 34,
     "metadata": {},
     "output_type": "execute_result"
    }
   ],
   "source": [
    "preprocess('really worried')"
   ]
  },
  {
   "cell_type": "code",
   "execution_count": 35,
   "metadata": {
    "tags": []
   },
   "outputs": [
    {
     "data": {
      "text/plain": [
       "(0, None)"
      ]
     },
     "execution_count": 35,
     "metadata": {},
     "output_type": "execute_result"
    }
   ],
   "source": [
    "syntactic_similarity(preprocess('nervous') ,all_symp_pr)"
   ]
  },
  {
   "cell_type": "code",
   "execution_count": 36,
   "metadata": {
    "tags": []
   },
   "outputs": [],
   "source": [
    "def check_pattern(inp,dis_list):\n",
    "    import re\n",
    "    pred_list=[]\n",
    "    ptr=0\n",
    "    patt = \"^\" + inp + \"$\"\n",
    "    regexp = re.compile(inp)\n",
    "    for item in dis_list:\n",
    "        if regexp.search(item):\n",
    "            pred_list.append(item)\n",
    "    if(len(pred_list)>0):\n",
    "        return 1,pred_list\n",
    "    else:\n",
    "        return ptr,None"
   ]
  },
  {
   "cell_type": "code",
   "execution_count": 37,
   "metadata": {
    "tags": []
   },
   "outputs": [
    {
     "data": {
      "text/plain": [
       "(1, ['brittle nail', 'small dent nail', 'inflammatory nail'])"
      ]
     },
     "execution_count": 37,
     "metadata": {},
     "output_type": "execute_result"
    }
   ],
   "source": [
    "check_pattern('nail',all_symp_pr)"
   ]
  },
  {
   "cell_type": "markdown",
   "metadata": {},
   "source": [
    "# IV- Semantic Similarity"
   ]
  },
  {
   "cell_type": "code",
   "execution_count": 38,
   "metadata": {
    "tags": []
   },
   "outputs": [],
   "source": [
    "from nltk.wsd import lesk\n",
    "from nltk.tokenize import word_tokenize\n",
    "def WSD(word, context):\n",
    "    sens=lesk(context, word)\n",
    "    return sens"
   ]
  },
  {
   "cell_type": "code",
   "execution_count": 39,
   "metadata": {
    "tags": []
   },
   "outputs": [],
   "source": [
    "def semanticD(doc1,doc2):\n",
    "    doc1_p=preprocess(doc1).split(' ')\n",
    "    doc2_p=preprocess_sym(doc2).split(' ')\n",
    "    score=0\n",
    "    for tock1 in doc1_p:\n",
    "        for tock2 in doc2_p:\n",
    "            syn1 = WSD(tock1,doc1)\n",
    "            syn2 = WSD(tock2,doc2)\n",
    "            #syn1=wn.synset(t)\n",
    "            if syn1 is not None and syn2 is not None :\n",
    "                x=syn1.wup_similarity(syn2)\n",
    "                if x is not None and x>0.1:\n",
    "                    score+=x\n",
    "    return score/(len(doc1_p)*len(doc2_p))"
   ]
  },
  {
   "cell_type": "code",
   "execution_count": 40,
   "metadata": {
    "tags": []
   },
   "outputs": [
    {
     "data": {
      "text/plain": [
       "0.2"
      ]
     },
     "execution_count": 40,
     "metadata": {},
     "output_type": "execute_result"
    }
   ],
   "source": [
    "semanticD('anxiety','nervous')"
   ]
  },
  {
   "cell_type": "code",
   "execution_count": 41,
   "metadata": {
    "tags": []
   },
   "outputs": [
    {
     "data": {
      "text/plain": [
       "'(psychiatry) a relatively permanent state of worry and nervousness occurring in a variety of mental disorders, usually accompanied by compulsive behavior or attacks of panic'"
      ]
     },
     "execution_count": 41,
     "metadata": {},
     "output_type": "execute_result"
    }
   ],
   "source": [
    "syna=wn.synsets('anxiety')\n",
    "syna[0].definition()"
   ]
  },
  {
   "cell_type": "code",
   "execution_count": 42,
   "metadata": {
    "tags": []
   },
   "outputs": [
    {
     "data": {
      "text/plain": [
       "'easily agitated'"
      ]
     },
     "execution_count": 42,
     "metadata": {},
     "output_type": "execute_result"
    }
   ],
   "source": [
    "synn=wn.synsets('nervous')\n",
    "synn[0].definition()"
   ]
  },
  {
   "cell_type": "code",
   "execution_count": 43,
   "metadata": {
    "tags": []
   },
   "outputs": [
    {
     "data": {
      "text/plain": [
       "0.2"
      ]
     },
     "execution_count": 43,
     "metadata": {},
     "output_type": "execute_result"
    }
   ],
   "source": [
    "synn[0].wup_similarity(syna[0])"
   ]
  },
  {
   "cell_type": "code",
   "execution_count": 44,
   "metadata": {
    "tags": []
   },
   "outputs": [
    {
     "data": {
      "text/html": [
       "<div>\n",
       "<style scoped>\n",
       "    .dataframe tbody tr th:only-of-type {\n",
       "        vertical-align: middle;\n",
       "    }\n",
       "\n",
       "    .dataframe tbody tr th {\n",
       "        vertical-align: top;\n",
       "    }\n",
       "\n",
       "    .dataframe thead th {\n",
       "        text-align: right;\n",
       "    }\n",
       "</style>\n",
       "<table border=\"1\" class=\"dataframe\">\n",
       "  <thead>\n",
       "    <tr style=\"text-align: right;\">\n",
       "      <th></th>\n",
       "      <th>0</th>\n",
       "      <th>1</th>\n",
       "      <th>2</th>\n",
       "      <th>3</th>\n",
       "      <th>4</th>\n",
       "      <th>5</th>\n",
       "      <th>6</th>\n",
       "      <th>7</th>\n",
       "      <th>8</th>\n",
       "      <th>9</th>\n",
       "      <th>10</th>\n",
       "      <th>11</th>\n",
       "      <th>12</th>\n",
       "      <th>13</th>\n",
       "      <th>14</th>\n",
       "      <th>15</th>\n",
       "      <th>16</th>\n",
       "      <th>17</th>\n",
       "      <th>18</th>\n",
       "      <th>19</th>\n",
       "    </tr>\n",
       "  </thead>\n",
       "  <tbody>\n",
       "    <tr>\n",
       "      <th>path</th>\n",
       "      <td>0.083333</td>\n",
       "      <td>0.083333</td>\n",
       "      <td>0.083333</td>\n",
       "      <td>0.083333</td>\n",
       "      <td>0.083333</td>\n",
       "      <td>0.333333</td>\n",
       "      <td>0.333333</td>\n",
       "      <td>0.333333</td>\n",
       "      <td>0.333333</td>\n",
       "      <td>0.333333</td>\n",
       "      <td>0.333333</td>\n",
       "      <td>0.333333</td>\n",
       "      <td>0.333333</td>\n",
       "      <td>0.333333</td>\n",
       "      <td>0.333333</td>\n",
       "      <td>0.333333</td>\n",
       "      <td>0.333333</td>\n",
       "      <td>0.333333</td>\n",
       "      <td>0.333333</td>\n",
       "      <td>0.333333</td>\n",
       "    </tr>\n",
       "    <tr>\n",
       "      <th>wup</th>\n",
       "      <td>0.153846</td>\n",
       "      <td>0.153846</td>\n",
       "      <td>0.153846</td>\n",
       "      <td>0.153846</td>\n",
       "      <td>0.153846</td>\n",
       "      <td>0.500000</td>\n",
       "      <td>0.500000</td>\n",
       "      <td>0.500000</td>\n",
       "      <td>0.500000</td>\n",
       "      <td>0.500000</td>\n",
       "      <td>0.500000</td>\n",
       "      <td>0.500000</td>\n",
       "      <td>0.500000</td>\n",
       "      <td>0.500000</td>\n",
       "      <td>0.500000</td>\n",
       "      <td>0.500000</td>\n",
       "      <td>0.500000</td>\n",
       "      <td>0.500000</td>\n",
       "      <td>0.500000</td>\n",
       "      <td>0.500000</td>\n",
       "    </tr>\n",
       "  </tbody>\n",
       "</table>\n",
       "</div>"
      ],
      "text/plain": [
       "            0         1         2         3         4         5         6   \\\n",
       "path  0.083333  0.083333  0.083333  0.083333  0.083333  0.333333  0.333333   \n",
       "wup   0.153846  0.153846  0.153846  0.153846  0.153846  0.500000  0.500000   \n",
       "\n",
       "            7         8         9         10        11        12        13  \\\n",
       "path  0.333333  0.333333  0.333333  0.333333  0.333333  0.333333  0.333333   \n",
       "wup   0.500000  0.500000  0.500000  0.500000  0.500000  0.500000  0.500000   \n",
       "\n",
       "            14        15        16        17        18        19  \n",
       "path  0.333333  0.333333  0.333333  0.333333  0.333333  0.333333  \n",
       "wup   0.500000  0.500000  0.500000  0.500000  0.500000  0.500000  "
      ]
     },
     "execution_count": 44,
     "metadata": {},
     "output_type": "execute_result"
    }
   ],
   "source": [
    "anxiety_synsets = wn.synsets(\"brittle\") \n",
    "nervous_synsets = wn.synsets(\"nervous\") \n",
    "path=[]\n",
    "wup=[]\n",
    "lch=[]\n",
    "\n",
    "\n",
    "for s1 in anxiety_synsets:\n",
    "    for s2 in nervous_synsets:\n",
    "        path.append(s1.path_similarity(s2))\n",
    "        wup.append(s1.wup_similarity(s2))\n",
    "        #lch.append(s1.lch_similarity(s2))\n",
    "        \n",
    "\n",
    "pd.DataFrame([path,wup],[\"path\",\"wup\"])"
   ]
  },
  {
   "cell_type": "code",
   "execution_count": 45,
   "metadata": {
    "tags": []
   },
   "outputs": [],
   "source": [
    "#similarite sem avec ts le corpus\n",
    "def semantic_similarity(symp_t,corpus):\n",
    "    max_sim=0\n",
    "    most_sim=None\n",
    "    for symp in corpus:\n",
    "        d=semanticD(symp_t,symp)\n",
    "        if d>max_sim:\n",
    "            most_sim=symp\n",
    "            max_sim=d\n",
    "    return max_sim,most_sim"
   ]
  },
  {
   "cell_type": "code",
   "execution_count": 46,
   "metadata": {
    "tags": []
   },
   "outputs": [
    {
     "data": {
      "text/plain": [
       "(0.45, 'brittle nail')"
      ]
     },
     "execution_count": 46,
     "metadata": {},
     "output_type": "execute_result"
    }
   ],
   "source": [
    "semantic_similarity('nervous',all_symp_pr)"
   ]
  },
  {
   "cell_type": "code",
   "execution_count": 47,
   "metadata": {
    "tags": []
   },
   "outputs": [],
   "source": [
    "all_symp_pr.sort()"
   ]
  },
  {
   "cell_type": "code",
   "execution_count": 48,
   "metadata": {
    "tags": []
   },
   "outputs": [
    {
     "data": {
      "text/plain": [
       "['abdominal pain',\n",
       " 'abnormal menstruation',\n",
       " 'acidity',\n",
       " 'acute liver failure',\n",
       " 'alter sensorium',\n",
       " 'anxiety',\n",
       " 'belly pain',\n",
       " 'blackhead',\n",
       " 'bladder discomfort',\n",
       " 'blister',\n",
       " 'blood sputum',\n",
       " 'bloody stool',\n",
       " 'blur distorted vision',\n",
       " 'breathlessness',\n",
       " 'brittle nail',\n",
       " 'bruise',\n",
       " 'burn micturition',\n",
       " 'chest pain',\n",
       " 'chill',\n",
       " 'cold hand feet',\n",
       " 'coma',\n",
       " 'congestion',\n",
       " 'constipation',\n",
       " 'continuous feel urine',\n",
       " 'continuous sneezing',\n",
       " 'cough',\n",
       " 'cramp',\n",
       " 'dark urine',\n",
       " 'dehydration',\n",
       " 'depression',\n",
       " 'diarrhoea',\n",
       " 'dischromic patch',\n",
       " 'distention abdoman',\n",
       " 'dizziness',\n",
       " 'dry tingle lip',\n",
       " 'enlarge thyroid',\n",
       " 'excessive hunger',\n",
       " 'extra marital contact',\n",
       " 'family history',\n",
       " 'fast heart rate',\n",
       " 'fatigue',\n",
       " 'fluid overload',\n",
       " 'fluid overload',\n",
       " 'foul smell urine',\n",
       " 'headache',\n",
       " 'high fever',\n",
       " 'hip joint pain',\n",
       " 'history alcohol consumption',\n",
       " 'increase appetite',\n",
       " 'indigestion',\n",
       " 'inflammatory nail',\n",
       " 'internal itching',\n",
       " 'irregular sugar level',\n",
       " 'irritability',\n",
       " 'irritation anus',\n",
       " 'itch',\n",
       " 'joint pain',\n",
       " 'knee pain',\n",
       " 'lack concentration',\n",
       " 'lethargy',\n",
       " 'loss appetite',\n",
       " 'loss balance',\n",
       " 'loss smell',\n",
       " 'malaise',\n",
       " 'mild fever',\n",
       " 'mood swing',\n",
       " 'movement stiffness',\n",
       " 'mucoid sputum',\n",
       " 'muscle pain',\n",
       " 'muscle waste',\n",
       " 'muscle weakness',\n",
       " 'nausea',\n",
       " 'neck pain',\n",
       " 'nodal skin eruption',\n",
       " 'obesity',\n",
       " 'pain',\n",
       " 'pain anal region',\n",
       " 'pain bowel movement',\n",
       " 'pain eye',\n",
       " 'painful walking',\n",
       " 'palpitation',\n",
       " 'passage gas',\n",
       " 'patch throat',\n",
       " 'phlegm',\n",
       " 'polyuria',\n",
       " 'prominent vein calf',\n",
       " 'puffy face eye',\n",
       " 'pus fill pimple',\n",
       " 'receive blood transfusion',\n",
       " 'receive unsterile injection',\n",
       " 'red sore nose',\n",
       " 'red spot body',\n",
       " 'redness eye',\n",
       " 'restlessness',\n",
       " 'runny nose',\n",
       " 'rusty sputum',\n",
       " 'scurre',\n",
       " 'shiver',\n",
       " 'silver like dust',\n",
       " 'sink eye',\n",
       " 'sinus pressure',\n",
       " 'skin peel',\n",
       " 'skin rash',\n",
       " 'slur speech',\n",
       " 'small dent nail',\n",
       " 'spin movement',\n",
       " 'spot urination',\n",
       " 'stiff neck',\n",
       " 'stomach bleeding',\n",
       " 'stomach pain',\n",
       " 'sweat',\n",
       " 'swell joint',\n",
       " 'swell lymph node',\n",
       " 'swelling stomach',\n",
       " 'swollen blood vessel',\n",
       " 'swollen extremetie',\n",
       " 'swollen leg',\n",
       " 'throat irritation',\n",
       " 'toxic look',\n",
       " 'ulcer tongue',\n",
       " 'unsteadiness',\n",
       " 'visual disturbance',\n",
       " 'vomit',\n",
       " 'water eye',\n",
       " 'weakness body',\n",
       " 'weakness limb',\n",
       " 'weight gain',\n",
       " 'weight loss',\n",
       " 'yellow crust ooze',\n",
       " 'yellow eye',\n",
       " 'yellow skin',\n",
       " 'yellow urine']"
      ]
     },
     "execution_count": 48,
     "metadata": {},
     "output_type": "execute_result"
    }
   ],
   "source": [
    "all_symp_pr"
   ]
  },
  {
   "cell_type": "code",
   "execution_count": 49,
   "metadata": {
    "tags": []
   },
   "outputs": [],
   "source": [
    "from itertools import chain\n",
    "from nltk.corpus import wordnet\n",
    "def suggest_syn(sym):\n",
    "    symp=[]\n",
    "    synonyms = wordnet.synsets(sym)\n",
    "    lemmas=[word.lemma_names() for word in synonyms]\n",
    "    lemmas = list(set(chain(*lemmas)))\n",
    "    for e in lemmas:\n",
    "        res,sym1=semantic_similarity(e,all_symp_pr)\n",
    "        if res!=0:\n",
    "            symp.append(sym1)\n",
    "    return list(set(symp))"
   ]
  },
  {
   "cell_type": "code",
   "execution_count": 50,
   "metadata": {
    "tags": []
   },
   "outputs": [
    {
     "data": {
      "text/plain": [
       "['brittle nail', 'unsteadiness', 'malaise', 'blur distorted vision']"
      ]
     },
     "execution_count": 50,
     "metadata": {},
     "output_type": "execute_result"
    }
   ],
   "source": [
    "suggest_syn('worried')"
   ]
  },
  {
   "cell_type": "code",
   "execution_count": 51,
   "metadata": {
    "tags": []
   },
   "outputs": [],
   "source": [
    "#recoit client_symptoms et renvoit un dataframe avec 1 pour les symptoms associees\n",
    "def OHV(cl_sym,all_sym):\n",
    "    l=np.zeros([1,len(all_sym)])\n",
    "    for sym in cl_sym:\n",
    "        l[0,all_sym.index(sym)]=1\n",
    "    return pd.DataFrame(l, columns =all_symp)\n",
    "    "
   ]
  },
  {
   "cell_type": "code",
   "execution_count": 52,
   "metadata": {
    "tags": []
   },
   "outputs": [],
   "source": [
    "def contains(small, big):\n",
    "    a=True\n",
    "    for i in small:\n",
    "        if i not in big:\n",
    "            a=False\n",
    "    return a"
   ]
  },
  {
   "cell_type": "code",
   "execution_count": 53,
   "metadata": {
    "tags": []
   },
   "outputs": [],
   "source": [
    "def possible_diseases(l):\n",
    "    poss_dis=[]\n",
    "    for dis in set(disease):\n",
    "        if contains(l,symVONdisease(df_tr,dis)):\n",
    "            poss_dis.append(dis)\n",
    "    return poss_dis"
   ]
  },
  {
   "cell_type": "code",
   "execution_count": 54,
   "metadata": {
    "tags": []
   },
   "outputs": [
    {
     "data": {
      "text/plain": [
       "{'(vertigo) Paroymsal  Positional Vertigo',\n",
       " 'AIDS',\n",
       " 'Acne',\n",
       " 'Alcoholic hepatitis',\n",
       " 'Allergy',\n",
       " 'Arthritis',\n",
       " 'Bronchial Asthma',\n",
       " 'Cervical spondylosis',\n",
       " 'Chicken pox',\n",
       " 'Chronic cholestasis',\n",
       " 'Common Cold',\n",
       " 'Dengue',\n",
       " 'Diabetes ',\n",
       " 'Dimorphic hemmorhoids(piles)',\n",
       " 'Drug Reaction',\n",
       " 'Fungal infection',\n",
       " 'GERD',\n",
       " 'Gastroenteritis',\n",
       " 'Heart attack',\n",
       " 'Hepatitis B',\n",
       " 'Hepatitis C',\n",
       " 'Hepatitis D',\n",
       " 'Hepatitis E',\n",
       " 'Hypertension ',\n",
       " 'Hyperthyroidism',\n",
       " 'Hypoglycemia',\n",
       " 'Hypothyroidism',\n",
       " 'Impetigo',\n",
       " 'Jaundice',\n",
       " 'Malaria',\n",
       " 'Migraine',\n",
       " 'Osteoarthristis',\n",
       " 'Paralysis (brain hemorrhage)',\n",
       " 'Peptic ulcer diseae',\n",
       " 'Pneumonia',\n",
       " 'Psoriasis',\n",
       " 'Tuberculosis',\n",
       " 'Typhoid',\n",
       " 'Urinary tract infection',\n",
       " 'Varicose veins',\n",
       " 'hepatitis A'}"
      ]
     },
     "execution_count": 54,
     "metadata": {},
     "output_type": "execute_result"
    }
   ],
   "source": [
    "set(disease)"
   ]
  },
  {
   "cell_type": "code",
   "execution_count": 55,
   "metadata": {
    "tags": []
   },
   "outputs": [],
   "source": [
    "#recoit une maladie renvoit tous les sympts\n",
    "def symVONdisease(df,disease):\n",
    "    ddf=df[df.prognosis==disease]\n",
    "    m2 = (ddf == 1).any()\n",
    "    return m2.index[m2].tolist()\n",
    "    "
   ]
  },
  {
   "cell_type": "code",
   "execution_count": 56,
   "metadata": {
    "tags": []
   },
   "outputs": [
    {
     "data": {
      "text/plain": [
       "['itching',\n",
       " 'vomiting',\n",
       " 'fatigue',\n",
       " 'weight_loss',\n",
       " 'high_fever',\n",
       " 'yellowish_skin',\n",
       " 'dark_urine',\n",
       " 'abdominal_pain']"
      ]
     },
     "execution_count": 56,
     "metadata": {},
     "output_type": "execute_result"
    }
   ],
   "source": [
    "symVONdisease(df_tr,'Jaundice')"
   ]
  },
  {
   "cell_type": "markdown",
   "metadata": {},
   "source": [
    "# V- Prediction Model (KNN & DT)"
   ]
  },
  {
   "cell_type": "code",
   "execution_count": 57,
   "metadata": {
    "tags": []
   },
   "outputs": [],
   "source": [
    "from sklearn.neighbors import KNeighborsClassifier\n",
    "from sklearn.tree import DecisionTreeClassifier\n",
    "from sklearn.metrics import classification_report"
   ]
  },
  {
   "cell_type": "code",
   "execution_count": 58,
   "metadata": {
    "tags": []
   },
   "outputs": [],
   "source": [
    "X_train=df_tr.iloc[:,:-1]\n",
    "X_test=df_tt.iloc[:,:-1]\n",
    "y_train = df_tr.iloc[:,-1]\n",
    "y_test = df_tt.iloc[:,-1]"
   ]
  },
  {
   "cell_type": "code",
   "execution_count": 59,
   "metadata": {
    "tags": []
   },
   "outputs": [
    {
     "name": "stderr",
     "output_type": "stream",
     "text": [
      "/Users/akhilsurnedi/anaconda3/envs/tensorflow/lib/python3.9/site-packages/sklearn/utils/validation.py:767: FutureWarning: is_sparse is deprecated and will be removed in a future version. Check `isinstance(dtype, pd.SparseDtype)` instead.\n",
      "  if not hasattr(array, \"sparse\") and array.dtypes.apply(is_sparse).any():\n",
      "/Users/akhilsurnedi/anaconda3/envs/tensorflow/lib/python3.9/site-packages/sklearn/utils/validation.py:605: FutureWarning: is_sparse is deprecated and will be removed in a future version. Check `isinstance(dtype, pd.SparseDtype)` instead.\n",
      "  if is_sparse(pd_dtype):\n",
      "/Users/akhilsurnedi/anaconda3/envs/tensorflow/lib/python3.9/site-packages/sklearn/utils/validation.py:614: FutureWarning: is_sparse is deprecated and will be removed in a future version. Check `isinstance(dtype, pd.SparseDtype)` instead.\n",
      "  if is_sparse(pd_dtype) or not is_extension_array_dtype(pd_dtype):\n",
      "/Users/akhilsurnedi/anaconda3/envs/tensorflow/lib/python3.9/site-packages/sklearn/utils/validation.py:605: FutureWarning: is_sparse is deprecated and will be removed in a future version. Check `isinstance(dtype, pd.SparseDtype)` instead.\n",
      "  if is_sparse(pd_dtype):\n",
      "/Users/akhilsurnedi/anaconda3/envs/tensorflow/lib/python3.9/site-packages/sklearn/utils/validation.py:614: FutureWarning: is_sparse is deprecated and will be removed in a future version. Check `isinstance(dtype, pd.SparseDtype)` instead.\n",
      "  if is_sparse(pd_dtype) or not is_extension_array_dtype(pd_dtype):\n"
     ]
    },
    {
     "data": {
      "text/html": [
       "<style>#sk-container-id-1 {color: black;background-color: white;}#sk-container-id-1 pre{padding: 0;}#sk-container-id-1 div.sk-toggleable {background-color: white;}#sk-container-id-1 label.sk-toggleable__label {cursor: pointer;display: block;width: 100%;margin-bottom: 0;padding: 0.3em;box-sizing: border-box;text-align: center;}#sk-container-id-1 label.sk-toggleable__label-arrow:before {content: \"▸\";float: left;margin-right: 0.25em;color: #696969;}#sk-container-id-1 label.sk-toggleable__label-arrow:hover:before {color: black;}#sk-container-id-1 div.sk-estimator:hover label.sk-toggleable__label-arrow:before {color: black;}#sk-container-id-1 div.sk-toggleable__content {max-height: 0;max-width: 0;overflow: hidden;text-align: left;background-color: #f0f8ff;}#sk-container-id-1 div.sk-toggleable__content pre {margin: 0.2em;color: black;border-radius: 0.25em;background-color: #f0f8ff;}#sk-container-id-1 input.sk-toggleable__control:checked~div.sk-toggleable__content {max-height: 200px;max-width: 100%;overflow: auto;}#sk-container-id-1 input.sk-toggleable__control:checked~label.sk-toggleable__label-arrow:before {content: \"▾\";}#sk-container-id-1 div.sk-estimator input.sk-toggleable__control:checked~label.sk-toggleable__label {background-color: #d4ebff;}#sk-container-id-1 div.sk-label input.sk-toggleable__control:checked~label.sk-toggleable__label {background-color: #d4ebff;}#sk-container-id-1 input.sk-hidden--visually {border: 0;clip: rect(1px 1px 1px 1px);clip: rect(1px, 1px, 1px, 1px);height: 1px;margin: -1px;overflow: hidden;padding: 0;position: absolute;width: 1px;}#sk-container-id-1 div.sk-estimator {font-family: monospace;background-color: #f0f8ff;border: 1px dotted black;border-radius: 0.25em;box-sizing: border-box;margin-bottom: 0.5em;}#sk-container-id-1 div.sk-estimator:hover {background-color: #d4ebff;}#sk-container-id-1 div.sk-parallel-item::after {content: \"\";width: 100%;border-bottom: 1px solid gray;flex-grow: 1;}#sk-container-id-1 div.sk-label:hover label.sk-toggleable__label {background-color: #d4ebff;}#sk-container-id-1 div.sk-serial::before {content: \"\";position: absolute;border-left: 1px solid gray;box-sizing: border-box;top: 0;bottom: 0;left: 50%;z-index: 0;}#sk-container-id-1 div.sk-serial {display: flex;flex-direction: column;align-items: center;background-color: white;padding-right: 0.2em;padding-left: 0.2em;position: relative;}#sk-container-id-1 div.sk-item {position: relative;z-index: 1;}#sk-container-id-1 div.sk-parallel {display: flex;align-items: stretch;justify-content: center;background-color: white;position: relative;}#sk-container-id-1 div.sk-item::before, #sk-container-id-1 div.sk-parallel-item::before {content: \"\";position: absolute;border-left: 1px solid gray;box-sizing: border-box;top: 0;bottom: 0;left: 50%;z-index: -1;}#sk-container-id-1 div.sk-parallel-item {display: flex;flex-direction: column;z-index: 1;position: relative;background-color: white;}#sk-container-id-1 div.sk-parallel-item:first-child::after {align-self: flex-end;width: 50%;}#sk-container-id-1 div.sk-parallel-item:last-child::after {align-self: flex-start;width: 50%;}#sk-container-id-1 div.sk-parallel-item:only-child::after {width: 0;}#sk-container-id-1 div.sk-dashed-wrapped {border: 1px dashed gray;margin: 0 0.4em 0.5em 0.4em;box-sizing: border-box;padding-bottom: 0.4em;background-color: white;}#sk-container-id-1 div.sk-label label {font-family: monospace;font-weight: bold;display: inline-block;line-height: 1.2em;}#sk-container-id-1 div.sk-label-container {text-align: center;}#sk-container-id-1 div.sk-container {/* jupyter's `normalize.less` sets `[hidden] { display: none; }` but bootstrap.min.css set `[hidden] { display: none !important; }` so we also need the `!important` here to be able to override the default hidden behavior on the sphinx rendered scikit-learn.org. See: https://github.com/scikit-learn/scikit-learn/issues/21755 */display: inline-block !important;position: relative;}#sk-container-id-1 div.sk-text-repr-fallback {display: none;}</style><div id=\"sk-container-id-1\" class=\"sk-top-container\"><div class=\"sk-text-repr-fallback\"><pre>KNeighborsClassifier()</pre><b>In a Jupyter environment, please rerun this cell to show the HTML representation or trust the notebook. <br />On GitHub, the HTML representation is unable to render, please try loading this page with nbviewer.org.</b></div><div class=\"sk-container\" hidden><div class=\"sk-item\"><div class=\"sk-estimator sk-toggleable\"><input class=\"sk-toggleable__control sk-hidden--visually\" id=\"sk-estimator-id-1\" type=\"checkbox\" checked><label for=\"sk-estimator-id-1\" class=\"sk-toggleable__label sk-toggleable__label-arrow\">KNeighborsClassifier</label><div class=\"sk-toggleable__content\"><pre>KNeighborsClassifier()</pre></div></div></div></div></div>"
      ],
      "text/plain": [
       "KNeighborsClassifier()"
      ]
     },
     "execution_count": 59,
     "metadata": {},
     "output_type": "execute_result"
    }
   ],
   "source": [
    "knn_clf=KNeighborsClassifier()\n",
    "knn_clf.fit(X_train,y_train)"
   ]
  },
  {
   "cell_type": "code",
   "execution_count": 60,
   "metadata": {
    "tags": []
   },
   "outputs": [
    {
     "name": "stderr",
     "output_type": "stream",
     "text": [
      "/Users/akhilsurnedi/anaconda3/envs/tensorflow/lib/python3.9/site-packages/sklearn/utils/validation.py:767: FutureWarning: is_sparse is deprecated and will be removed in a future version. Check `isinstance(dtype, pd.SparseDtype)` instead.\n",
      "  if not hasattr(array, \"sparse\") and array.dtypes.apply(is_sparse).any():\n",
      "/Users/akhilsurnedi/anaconda3/envs/tensorflow/lib/python3.9/site-packages/sklearn/utils/validation.py:605: FutureWarning: is_sparse is deprecated and will be removed in a future version. Check `isinstance(dtype, pd.SparseDtype)` instead.\n",
      "  if is_sparse(pd_dtype):\n",
      "/Users/akhilsurnedi/anaconda3/envs/tensorflow/lib/python3.9/site-packages/sklearn/utils/validation.py:614: FutureWarning: is_sparse is deprecated and will be removed in a future version. Check `isinstance(dtype, pd.SparseDtype)` instead.\n",
      "  if is_sparse(pd_dtype) or not is_extension_array_dtype(pd_dtype):\n",
      "/Users/akhilsurnedi/anaconda3/envs/tensorflow/lib/python3.9/site-packages/sklearn/utils/validation.py:605: FutureWarning: is_sparse is deprecated and will be removed in a future version. Check `isinstance(dtype, pd.SparseDtype)` instead.\n",
      "  if is_sparse(pd_dtype):\n",
      "/Users/akhilsurnedi/anaconda3/envs/tensorflow/lib/python3.9/site-packages/sklearn/utils/validation.py:614: FutureWarning: is_sparse is deprecated and will be removed in a future version. Check `isinstance(dtype, pd.SparseDtype)` instead.\n",
      "  if is_sparse(pd_dtype) or not is_extension_array_dtype(pd_dtype):\n"
     ]
    },
    {
     "data": {
      "text/html": [
       "<style>#sk-container-id-2 {color: black;background-color: white;}#sk-container-id-2 pre{padding: 0;}#sk-container-id-2 div.sk-toggleable {background-color: white;}#sk-container-id-2 label.sk-toggleable__label {cursor: pointer;display: block;width: 100%;margin-bottom: 0;padding: 0.3em;box-sizing: border-box;text-align: center;}#sk-container-id-2 label.sk-toggleable__label-arrow:before {content: \"▸\";float: left;margin-right: 0.25em;color: #696969;}#sk-container-id-2 label.sk-toggleable__label-arrow:hover:before {color: black;}#sk-container-id-2 div.sk-estimator:hover label.sk-toggleable__label-arrow:before {color: black;}#sk-container-id-2 div.sk-toggleable__content {max-height: 0;max-width: 0;overflow: hidden;text-align: left;background-color: #f0f8ff;}#sk-container-id-2 div.sk-toggleable__content pre {margin: 0.2em;color: black;border-radius: 0.25em;background-color: #f0f8ff;}#sk-container-id-2 input.sk-toggleable__control:checked~div.sk-toggleable__content {max-height: 200px;max-width: 100%;overflow: auto;}#sk-container-id-2 input.sk-toggleable__control:checked~label.sk-toggleable__label-arrow:before {content: \"▾\";}#sk-container-id-2 div.sk-estimator input.sk-toggleable__control:checked~label.sk-toggleable__label {background-color: #d4ebff;}#sk-container-id-2 div.sk-label input.sk-toggleable__control:checked~label.sk-toggleable__label {background-color: #d4ebff;}#sk-container-id-2 input.sk-hidden--visually {border: 0;clip: rect(1px 1px 1px 1px);clip: rect(1px, 1px, 1px, 1px);height: 1px;margin: -1px;overflow: hidden;padding: 0;position: absolute;width: 1px;}#sk-container-id-2 div.sk-estimator {font-family: monospace;background-color: #f0f8ff;border: 1px dotted black;border-radius: 0.25em;box-sizing: border-box;margin-bottom: 0.5em;}#sk-container-id-2 div.sk-estimator:hover {background-color: #d4ebff;}#sk-container-id-2 div.sk-parallel-item::after {content: \"\";width: 100%;border-bottom: 1px solid gray;flex-grow: 1;}#sk-container-id-2 div.sk-label:hover label.sk-toggleable__label {background-color: #d4ebff;}#sk-container-id-2 div.sk-serial::before {content: \"\";position: absolute;border-left: 1px solid gray;box-sizing: border-box;top: 0;bottom: 0;left: 50%;z-index: 0;}#sk-container-id-2 div.sk-serial {display: flex;flex-direction: column;align-items: center;background-color: white;padding-right: 0.2em;padding-left: 0.2em;position: relative;}#sk-container-id-2 div.sk-item {position: relative;z-index: 1;}#sk-container-id-2 div.sk-parallel {display: flex;align-items: stretch;justify-content: center;background-color: white;position: relative;}#sk-container-id-2 div.sk-item::before, #sk-container-id-2 div.sk-parallel-item::before {content: \"\";position: absolute;border-left: 1px solid gray;box-sizing: border-box;top: 0;bottom: 0;left: 50%;z-index: -1;}#sk-container-id-2 div.sk-parallel-item {display: flex;flex-direction: column;z-index: 1;position: relative;background-color: white;}#sk-container-id-2 div.sk-parallel-item:first-child::after {align-self: flex-end;width: 50%;}#sk-container-id-2 div.sk-parallel-item:last-child::after {align-self: flex-start;width: 50%;}#sk-container-id-2 div.sk-parallel-item:only-child::after {width: 0;}#sk-container-id-2 div.sk-dashed-wrapped {border: 1px dashed gray;margin: 0 0.4em 0.5em 0.4em;box-sizing: border-box;padding-bottom: 0.4em;background-color: white;}#sk-container-id-2 div.sk-label label {font-family: monospace;font-weight: bold;display: inline-block;line-height: 1.2em;}#sk-container-id-2 div.sk-label-container {text-align: center;}#sk-container-id-2 div.sk-container {/* jupyter's `normalize.less` sets `[hidden] { display: none; }` but bootstrap.min.css set `[hidden] { display: none !important; }` so we also need the `!important` here to be able to override the default hidden behavior on the sphinx rendered scikit-learn.org. See: https://github.com/scikit-learn/scikit-learn/issues/21755 */display: inline-block !important;position: relative;}#sk-container-id-2 div.sk-text-repr-fallback {display: none;}</style><div id=\"sk-container-id-2\" class=\"sk-top-container\"><div class=\"sk-text-repr-fallback\"><pre>DecisionTreeClassifier()</pre><b>In a Jupyter environment, please rerun this cell to show the HTML representation or trust the notebook. <br />On GitHub, the HTML representation is unable to render, please try loading this page with nbviewer.org.</b></div><div class=\"sk-container\" hidden><div class=\"sk-item\"><div class=\"sk-estimator sk-toggleable\"><input class=\"sk-toggleable__control sk-hidden--visually\" id=\"sk-estimator-id-2\" type=\"checkbox\" checked><label for=\"sk-estimator-id-2\" class=\"sk-toggleable__label sk-toggleable__label-arrow\">DecisionTreeClassifier</label><div class=\"sk-toggleable__content\"><pre>DecisionTreeClassifier()</pre></div></div></div></div></div>"
      ],
      "text/plain": [
       "DecisionTreeClassifier()"
      ]
     },
     "execution_count": 60,
     "metadata": {},
     "output_type": "execute_result"
    }
   ],
   "source": [
    "dt_clf = DecisionTreeClassifier()\n",
    "dt_clf.fit(X_train, y_train)"
   ]
  },
  {
   "cell_type": "code",
   "execution_count": 61,
   "metadata": {
    "tags": []
   },
   "outputs": [
    {
     "name": "stdout",
     "output_type": "stream",
     "text": [
      "                                         precision    recall  f1-score   support\n",
      "\n",
      "(vertigo) Paroymsal  Positional Vertigo       1.00      1.00      1.00         1\n",
      "                                   AIDS       1.00      1.00      1.00         1\n",
      "                                   Acne       1.00      1.00      1.00         1\n",
      "                    Alcoholic hepatitis       1.00      1.00      1.00         1\n",
      "                                Allergy       1.00      1.00      1.00         1\n",
      "                              Arthritis       1.00      1.00      1.00         1\n",
      "                       Bronchial Asthma       1.00      1.00      1.00         1\n",
      "                   Cervical spondylosis       1.00      1.00      1.00         1\n",
      "                            Chicken pox       1.00      1.00      1.00         1\n",
      "                    Chronic cholestasis       1.00      1.00      1.00         1\n",
      "                            Common Cold       1.00      1.00      1.00         1\n",
      "                                 Dengue       1.00      1.00      1.00         1\n",
      "                              Diabetes        1.00      1.00      1.00         1\n",
      "           Dimorphic hemmorhoids(piles)       1.00      1.00      1.00         1\n",
      "                          Drug Reaction       1.00      1.00      1.00         1\n",
      "                       Fungal infection       1.00      1.00      1.00         1\n",
      "                                   GERD       1.00      1.00      1.00         1\n",
      "                        Gastroenteritis       1.00      1.00      1.00         1\n",
      "                           Heart attack       1.00      1.00      1.00         1\n",
      "                            Hepatitis B       1.00      1.00      1.00         1\n",
      "                            Hepatitis C       1.00      1.00      1.00         1\n",
      "                            Hepatitis D       1.00      1.00      1.00         1\n",
      "                            Hepatitis E       1.00      1.00      1.00         1\n",
      "                          Hypertension        1.00      1.00      1.00         1\n",
      "                        Hyperthyroidism       1.00      1.00      1.00         1\n",
      "                           Hypoglycemia       1.00      1.00      1.00         1\n",
      "                         Hypothyroidism       1.00      1.00      1.00         1\n",
      "                               Impetigo       1.00      1.00      1.00         1\n",
      "                               Jaundice       1.00      1.00      1.00         1\n",
      "                                Malaria       1.00      1.00      1.00         1\n",
      "                               Migraine       1.00      1.00      1.00         1\n",
      "                        Osteoarthristis       1.00      1.00      1.00         1\n",
      "           Paralysis (brain hemorrhage)       1.00      1.00      1.00         1\n",
      "                    Peptic ulcer diseae       1.00      1.00      1.00         1\n",
      "                              Pneumonia       1.00      1.00      1.00         1\n",
      "                              Psoriasis       1.00      1.00      1.00         1\n",
      "                           Tuberculosis       1.00      1.00      1.00         1\n",
      "                                Typhoid       1.00      1.00      1.00         1\n",
      "                Urinary tract infection       1.00      1.00      1.00         1\n",
      "                         Varicose veins       1.00      1.00      1.00         1\n",
      "                            hepatitis A       1.00      1.00      1.00         1\n",
      "\n",
      "                               accuracy                           1.00        41\n",
      "                              macro avg       1.00      1.00      1.00        41\n",
      "                           weighted avg       1.00      1.00      1.00        41\n",
      "\n"
     ]
    },
    {
     "name": "stderr",
     "output_type": "stream",
     "text": [
      "/Users/akhilsurnedi/anaconda3/envs/tensorflow/lib/python3.9/site-packages/sklearn/utils/validation.py:767: FutureWarning: is_sparse is deprecated and will be removed in a future version. Check `isinstance(dtype, pd.SparseDtype)` instead.\n",
      "  if not hasattr(array, \"sparse\") and array.dtypes.apply(is_sparse).any():\n",
      "/Users/akhilsurnedi/anaconda3/envs/tensorflow/lib/python3.9/site-packages/sklearn/utils/validation.py:605: FutureWarning: is_sparse is deprecated and will be removed in a future version. Check `isinstance(dtype, pd.SparseDtype)` instead.\n",
      "  if is_sparse(pd_dtype):\n",
      "/Users/akhilsurnedi/anaconda3/envs/tensorflow/lib/python3.9/site-packages/sklearn/utils/validation.py:614: FutureWarning: is_sparse is deprecated and will be removed in a future version. Check `isinstance(dtype, pd.SparseDtype)` instead.\n",
      "  if is_sparse(pd_dtype) or not is_extension_array_dtype(pd_dtype):\n",
      "/Users/akhilsurnedi/anaconda3/envs/tensorflow/lib/python3.9/site-packages/sklearn/utils/validation.py:605: FutureWarning: is_sparse is deprecated and will be removed in a future version. Check `isinstance(dtype, pd.SparseDtype)` instead.\n",
      "  if is_sparse(pd_dtype):\n",
      "/Users/akhilsurnedi/anaconda3/envs/tensorflow/lib/python3.9/site-packages/sklearn/utils/validation.py:614: FutureWarning: is_sparse is deprecated and will be removed in a future version. Check `isinstance(dtype, pd.SparseDtype)` instead.\n",
      "  if is_sparse(pd_dtype) or not is_extension_array_dtype(pd_dtype):\n",
      "/Users/akhilsurnedi/anaconda3/envs/tensorflow/lib/python3.9/site-packages/sklearn/utils/validation.py:605: FutureWarning: is_sparse is deprecated and will be removed in a future version. Check `isinstance(dtype, pd.SparseDtype)` instead.\n",
      "  if is_sparse(pd_dtype):\n",
      "/Users/akhilsurnedi/anaconda3/envs/tensorflow/lib/python3.9/site-packages/sklearn/utils/validation.py:614: FutureWarning: is_sparse is deprecated and will be removed in a future version. Check `isinstance(dtype, pd.SparseDtype)` instead.\n",
      "  if is_sparse(pd_dtype) or not is_extension_array_dtype(pd_dtype):\n",
      "/Users/akhilsurnedi/anaconda3/envs/tensorflow/lib/python3.9/site-packages/sklearn/utils/validation.py:605: FutureWarning: is_sparse is deprecated and will be removed in a future version. Check `isinstance(dtype, pd.SparseDtype)` instead.\n",
      "  if is_sparse(pd_dtype):\n",
      "/Users/akhilsurnedi/anaconda3/envs/tensorflow/lib/python3.9/site-packages/sklearn/utils/validation.py:614: FutureWarning: is_sparse is deprecated and will be removed in a future version. Check `isinstance(dtype, pd.SparseDtype)` instead.\n",
      "  if is_sparse(pd_dtype) or not is_extension_array_dtype(pd_dtype):\n"
     ]
    }
   ],
   "source": [
    "print(classification_report(y_test,knn_clf.predict(X_test)))"
   ]
  },
  {
   "cell_type": "code",
   "execution_count": 62,
   "metadata": {
    "tags": []
   },
   "outputs": [
    {
     "name": "stdout",
     "output_type": "stream",
     "text": [
      "                                         precision    recall  f1-score   support\n",
      "\n",
      "(vertigo) Paroymsal  Positional Vertigo       1.00      1.00      1.00         1\n",
      "                                   AIDS       1.00      1.00      1.00         1\n",
      "                                   Acne       1.00      1.00      1.00         1\n",
      "                    Alcoholic hepatitis       1.00      1.00      1.00         1\n",
      "                                Allergy       1.00      1.00      1.00         1\n",
      "                              Arthritis       1.00      1.00      1.00         1\n",
      "                       Bronchial Asthma       1.00      1.00      1.00         1\n",
      "                   Cervical spondylosis       1.00      1.00      1.00         1\n",
      "                            Chicken pox       1.00      1.00      1.00         1\n",
      "                    Chronic cholestasis       1.00      1.00      1.00         1\n",
      "                            Common Cold       1.00      1.00      1.00         1\n",
      "                                 Dengue       1.00      1.00      1.00         1\n",
      "                              Diabetes        1.00      1.00      1.00         1\n",
      "           Dimorphic hemmorhoids(piles)       1.00      1.00      1.00         1\n",
      "                          Drug Reaction       1.00      1.00      1.00         1\n",
      "                       Fungal infection       1.00      1.00      1.00         1\n",
      "                                   GERD       1.00      1.00      1.00         1\n",
      "                        Gastroenteritis       1.00      1.00      1.00         1\n",
      "                           Heart attack       1.00      1.00      1.00         1\n",
      "                            Hepatitis B       1.00      1.00      1.00         1\n",
      "                            Hepatitis C       1.00      1.00      1.00         1\n",
      "                            Hepatitis D       1.00      1.00      1.00         1\n",
      "                            Hepatitis E       1.00      1.00      1.00         1\n",
      "                          Hypertension        1.00      1.00      1.00         1\n",
      "                        Hyperthyroidism       1.00      1.00      1.00         1\n",
      "                           Hypoglycemia       1.00      1.00      1.00         1\n",
      "                         Hypothyroidism       1.00      1.00      1.00         1\n",
      "                               Impetigo       1.00      1.00      1.00         1\n",
      "                               Jaundice       1.00      1.00      1.00         1\n",
      "                                Malaria       1.00      1.00      1.00         1\n",
      "                               Migraine       1.00      1.00      1.00         1\n",
      "                        Osteoarthristis       1.00      1.00      1.00         1\n",
      "           Paralysis (brain hemorrhage)       1.00      1.00      1.00         1\n",
      "                    Peptic ulcer diseae       1.00      1.00      1.00         1\n",
      "                              Pneumonia       1.00      1.00      1.00         1\n",
      "                              Psoriasis       1.00      1.00      1.00         1\n",
      "                           Tuberculosis       1.00      1.00      1.00         1\n",
      "                                Typhoid       1.00      1.00      1.00         1\n",
      "                Urinary tract infection       1.00      1.00      1.00         1\n",
      "                         Varicose veins       1.00      1.00      1.00         1\n",
      "                            hepatitis A       1.00      1.00      1.00         1\n",
      "\n",
      "                               accuracy                           1.00        41\n",
      "                              macro avg       1.00      1.00      1.00        41\n",
      "                           weighted avg       1.00      1.00      1.00        41\n",
      "\n"
     ]
    },
    {
     "name": "stderr",
     "output_type": "stream",
     "text": [
      "/Users/akhilsurnedi/anaconda3/envs/tensorflow/lib/python3.9/site-packages/sklearn/utils/validation.py:767: FutureWarning: is_sparse is deprecated and will be removed in a future version. Check `isinstance(dtype, pd.SparseDtype)` instead.\n",
      "  if not hasattr(array, \"sparse\") and array.dtypes.apply(is_sparse).any():\n",
      "/Users/akhilsurnedi/anaconda3/envs/tensorflow/lib/python3.9/site-packages/sklearn/utils/validation.py:605: FutureWarning: is_sparse is deprecated and will be removed in a future version. Check `isinstance(dtype, pd.SparseDtype)` instead.\n",
      "  if is_sparse(pd_dtype):\n",
      "/Users/akhilsurnedi/anaconda3/envs/tensorflow/lib/python3.9/site-packages/sklearn/utils/validation.py:614: FutureWarning: is_sparse is deprecated and will be removed in a future version. Check `isinstance(dtype, pd.SparseDtype)` instead.\n",
      "  if is_sparse(pd_dtype) or not is_extension_array_dtype(pd_dtype):\n",
      "/Users/akhilsurnedi/anaconda3/envs/tensorflow/lib/python3.9/site-packages/sklearn/utils/validation.py:605: FutureWarning: is_sparse is deprecated and will be removed in a future version. Check `isinstance(dtype, pd.SparseDtype)` instead.\n",
      "  if is_sparse(pd_dtype):\n",
      "/Users/akhilsurnedi/anaconda3/envs/tensorflow/lib/python3.9/site-packages/sklearn/utils/validation.py:614: FutureWarning: is_sparse is deprecated and will be removed in a future version. Check `isinstance(dtype, pd.SparseDtype)` instead.\n",
      "  if is_sparse(pd_dtype) or not is_extension_array_dtype(pd_dtype):\n",
      "/Users/akhilsurnedi/anaconda3/envs/tensorflow/lib/python3.9/site-packages/sklearn/utils/validation.py:605: FutureWarning: is_sparse is deprecated and will be removed in a future version. Check `isinstance(dtype, pd.SparseDtype)` instead.\n",
      "  if is_sparse(pd_dtype):\n",
      "/Users/akhilsurnedi/anaconda3/envs/tensorflow/lib/python3.9/site-packages/sklearn/utils/validation.py:614: FutureWarning: is_sparse is deprecated and will be removed in a future version. Check `isinstance(dtype, pd.SparseDtype)` instead.\n",
      "  if is_sparse(pd_dtype) or not is_extension_array_dtype(pd_dtype):\n",
      "/Users/akhilsurnedi/anaconda3/envs/tensorflow/lib/python3.9/site-packages/sklearn/utils/validation.py:605: FutureWarning: is_sparse is deprecated and will be removed in a future version. Check `isinstance(dtype, pd.SparseDtype)` instead.\n",
      "  if is_sparse(pd_dtype):\n",
      "/Users/akhilsurnedi/anaconda3/envs/tensorflow/lib/python3.9/site-packages/sklearn/utils/validation.py:614: FutureWarning: is_sparse is deprecated and will be removed in a future version. Check `isinstance(dtype, pd.SparseDtype)` instead.\n",
      "  if is_sparse(pd_dtype) or not is_extension_array_dtype(pd_dtype):\n"
     ]
    }
   ],
   "source": [
    "print(classification_report(y_test,dt_clf.predict(X_test)))"
   ]
  },
  {
   "cell_type": "markdown",
   "metadata": {},
   "source": [
    "##  VI- SEVERITY / DESCRIPTION / PRECAUTION"
   ]
  },
  {
   "cell_type": "code",
   "execution_count": 63,
   "metadata": {
    "tags": []
   },
   "outputs": [],
   "source": [
    "severityDictionary=dict()\n",
    "description_list = dict()\n",
    "precautionDictionary=dict()\n",
    "\n",
    "def getDescription():\n",
    "    global description_list\n",
    "    with open('Medical_dataset/symptom_Description.csv') as csv_file:\n",
    "        csv_reader = csv.reader(csv_file, delimiter=',')\n",
    "        line_count = 0\n",
    "        for row in csv_reader:\n",
    "            _description={row[0]:row[1]}\n",
    "            description_list.update(_description)\n",
    "\n",
    "\n",
    "\n",
    "\n",
    "def getSeverityDict():\n",
    "    global severityDictionary\n",
    "    with open('Medical_dataset/symptom_severity.csv') as csv_file:\n",
    "\n",
    "        csv_reader = csv.reader(csv_file, delimiter=',')\n",
    "        line_count = 0\n",
    "        try:\n",
    "            for row in csv_reader:\n",
    "                _diction={row[0]:int(row[1])}\n",
    "                severityDictionary.update(_diction)\n",
    "        except:\n",
    "            pass\n",
    "\n",
    "\n",
    "def getprecautionDict():\n",
    "    global precautionDictionary\n",
    "    with open('Medical_dataset/symptom_precaution.csv') as csv_file:\n",
    "\n",
    "        csv_reader = csv.reader(csv_file, delimiter=',')\n",
    "        line_count = 0\n",
    "        for row in csv_reader:\n",
    "            _prec={row[0]:[row[1],row[2],row[3],row[4]]}\n",
    "            precautionDictionary.update(_prec)\n"
   ]
  },
  {
   "cell_type": "code",
   "execution_count": 64,
   "metadata": {
    "tags": []
   },
   "outputs": [],
   "source": [
    "getSeverityDict()\n",
    "getprecautionDict()\n",
    "getDescription()"
   ]
  },
  {
   "cell_type": "code",
   "execution_count": 65,
   "metadata": {
    "tags": []
   },
   "outputs": [
    {
     "data": {
      "text/plain": [
       "{'itching': 1,\n",
       " 'skin_rash': 3,\n",
       " 'nodal_skin_eruptions': 4,\n",
       " 'continuous_sneezing': 4,\n",
       " 'shivering': 5,\n",
       " 'chills': 3,\n",
       " 'joint_pain': 3,\n",
       " 'stomach_pain': 5,\n",
       " 'acidity': 3,\n",
       " 'ulcers_on_tongue': 4,\n",
       " 'muscle_wasting': 3,\n",
       " 'vomiting': 5,\n",
       " 'burning_micturition': 6,\n",
       " 'spotting_urination': 6,\n",
       " 'fatigue': 4,\n",
       " 'weight_gain': 3,\n",
       " 'anxiety': 4,\n",
       " 'cold_hands_and_feets': 5,\n",
       " 'mood_swings': 3,\n",
       " 'weight_loss': 3,\n",
       " 'restlessness': 5,\n",
       " 'lethargy': 2,\n",
       " 'patches_in_throat': 6,\n",
       " 'irregular_sugar_level': 5,\n",
       " 'cough': 4,\n",
       " 'high_fever': 7,\n",
       " 'sunken_eyes': 3,\n",
       " 'breathlessness': 4,\n",
       " 'sweating': 3,\n",
       " 'dehydration': 4,\n",
       " 'indigestion': 5,\n",
       " 'headache': 3,\n",
       " 'yellowish_skin': 3,\n",
       " 'dark_urine': 4,\n",
       " 'nausea': 5,\n",
       " 'loss_of_appetite': 4,\n",
       " 'pain_behind_the_eyes': 4,\n",
       " 'back_pain': 3,\n",
       " 'constipation': 4,\n",
       " 'abdominal_pain': 4,\n",
       " 'diarrhoea': 6,\n",
       " 'mild_fever': 5,\n",
       " 'yellow_urine': 4,\n",
       " 'yellowing_of_eyes': 4,\n",
       " 'acute_liver_failure': 6,\n",
       " 'fluid_overload': 4,\n",
       " 'swelling_of_stomach': 7,\n",
       " 'swelled_lymph_nodes': 6,\n",
       " 'malaise': 6,\n",
       " 'blurred_and_distorted_vision': 5,\n",
       " 'phlegm': 5,\n",
       " 'throat_irritation': 4,\n",
       " 'redness_of_eyes': 5,\n",
       " 'sinus_pressure': 4,\n",
       " 'runny_nose': 5,\n",
       " 'congestion': 5,\n",
       " 'chest_pain': 7,\n",
       " 'weakness_in_limbs': 7,\n",
       " 'fast_heart_rate': 5,\n",
       " 'pain_during_bowel_movements': 5,\n",
       " 'pain_in_anal_region': 6,\n",
       " 'bloody_stool': 5,\n",
       " 'irritation_in_anus': 6,\n",
       " 'neck_pain': 5,\n",
       " 'dizziness': 4,\n",
       " 'cramps': 4,\n",
       " 'bruising': 4,\n",
       " 'obesity': 4,\n",
       " 'swollen_legs': 5,\n",
       " 'swollen_blood_vessels': 5,\n",
       " 'puffy_face_and_eyes': 5,\n",
       " 'enlarged_thyroid': 6,\n",
       " 'brittle_nails': 5,\n",
       " 'swollen_extremeties': 5,\n",
       " 'excessive_hunger': 4,\n",
       " 'extra_marital_contacts': 5,\n",
       " 'drying_and_tingling_lips': 4,\n",
       " 'slurred_speech': 4,\n",
       " 'knee_pain': 3,\n",
       " 'hip_joint_pain': 2,\n",
       " 'muscle_weakness': 2,\n",
       " 'stiff_neck': 4,\n",
       " 'swelling_joints': 5,\n",
       " 'movement_stiffness': 5,\n",
       " 'spinning_movements': 6,\n",
       " 'loss_of_balance': 4,\n",
       " 'unsteadiness': 4,\n",
       " 'weakness_of_one_body_side': 4,\n",
       " 'loss_of_smell': 3,\n",
       " 'bladder_discomfort': 4,\n",
       " 'foul_smell_ofurine': 5,\n",
       " 'continuous_feel_of_urine': 6,\n",
       " 'passage_of_gases': 5,\n",
       " 'internal_itching': 4,\n",
       " 'toxic_look_(typhos)': 5,\n",
       " 'depression': 3,\n",
       " 'irritability': 2,\n",
       " 'muscle_pain': 2,\n",
       " 'altered_sensorium': 2,\n",
       " 'red_spots_over_body': 3,\n",
       " 'belly_pain': 4,\n",
       " 'abnormal_menstruation': 6,\n",
       " 'dischromic_patches': 6,\n",
       " 'watering_from_eyes': 4,\n",
       " 'increased_appetite': 5,\n",
       " 'polyuria': 4,\n",
       " 'family_history': 5,\n",
       " 'mucoid_sputum': 4,\n",
       " 'rusty_sputum': 4,\n",
       " 'lack_of_concentration': 3,\n",
       " 'visual_disturbances': 3,\n",
       " 'receiving_blood_transfusion': 5,\n",
       " 'receiving_unsterile_injections': 2,\n",
       " 'coma': 7,\n",
       " 'stomach_bleeding': 6,\n",
       " 'distention_of_abdomen': 4,\n",
       " 'history_of_alcohol_consumption': 5,\n",
       " 'blood_in_sputum': 5,\n",
       " 'prominent_veins_on_calf': 6,\n",
       " 'palpitations': 4,\n",
       " 'painful_walking': 2,\n",
       " 'pus_filled_pimples': 2,\n",
       " 'blackheads': 2,\n",
       " 'scurring': 2,\n",
       " 'skin_peeling': 3,\n",
       " 'silver_like_dusting': 2,\n",
       " 'small_dents_in_nails': 2,\n",
       " 'inflammatory_nails': 2,\n",
       " 'blister': 4,\n",
       " 'red_sore_around_nose': 2,\n",
       " 'yellow_crust_ooze': 3}"
      ]
     },
     "execution_count": 65,
     "metadata": {},
     "output_type": "execute_result"
    }
   ],
   "source": [
    "severityDictionary"
   ]
  },
  {
   "cell_type": "code",
   "execution_count": 66,
   "metadata": {
    "tags": []
   },
   "outputs": [],
   "source": [
    "def calc_condition(exp,days):\n",
    "    sum=0\n",
    "    for item in exp:\n",
    "        if item in severityDictionary.keys():\n",
    "            sum=sum+severityDictionary[item]\n",
    "    if((sum*days)/(len(exp))>13):\n",
    "        return 1\n",
    "        print(\"You should take the consultation from doctor. \")\n",
    "    else:\n",
    "        return 0\n",
    "        print(\"It might not be that bad but you should take precautions.\")\n"
   ]
  },
  {
   "cell_type": "markdown",
   "metadata": {},
   "source": [
    "# Chat"
   ]
  },
  {
   "cell_type": "code",
   "execution_count": 67,
   "metadata": {
    "tags": []
   },
   "outputs": [],
   "source": [
    "def getInfo():\n",
    "    # name=input(\"Name:\")\n",
    "    print(\"Your Name \\n\\t\\t\\t\\t\\t\\t\",end=\"=>\")\n",
    "    name=input(\"\")\n",
    "    print(\"hello \",name)\n",
    "    return str(name)"
   ]
  },
  {
   "cell_type": "code",
   "execution_count": 68,
   "metadata": {
    "tags": []
   },
   "outputs": [],
   "source": [
    "def related_sym(psym1):\n",
    "    if len(psym1)==1:\n",
    "        return psym1[0]\n",
    "    print(\"searches related to input: \")\n",
    "    for num,it in enumerate(psym1):\n",
    "        print(num,\")\",clean_symp(it))\n",
    "    if num!=0:\n",
    "        print(f\"Select the one you meant (0 - {num}):  \", end=\"\")\n",
    "        conf_inp = int(input(\"\"))\n",
    "    else:\n",
    "        conf_inp=0\n",
    "\n",
    "    disease_input=psym1[conf_inp]\n",
    "    return disease_input"
   ]
  },
  {
   "cell_type": "code",
   "execution_count": 69,
   "metadata": {
    "tags": []
   },
   "outputs": [],
   "source": [
    "def main_sp(name,all_symp_col):\n",
    "    #main Idea: At least two initial sympts to start with\n",
    "    \n",
    "    #get the 1st syp ->> process it ->> check_pattern ->>> get the appropriate one (if check_pattern==1 == similar syntaxic symp found)\n",
    "    print(\"Enter the main symptom you are experiencing Mr/Ms \"+name+\"  \\n\\t\\t\\t\\t\\t\\t\",end=\"=>\")\n",
    "    sym1 = input(\"\")\n",
    "    sym1=preprocess_sym(sym1)\n",
    "    sim1,psym1=syntactic_similarity(sym1,all_symp_pr)\n",
    "    if sim1==1:\n",
    "        psym1=related_sym(psym1)\n",
    "    \n",
    "    #get the 2nd syp ->> process it ->> check_pattern ->>> get the appropriate one (if check_pattern==1 == similar syntaxic symp found)\n",
    "\n",
    "    print(\"Enter a second symptom you are experiencing Mr/Ms \"+name+\"  \\n\\t\\t\\t\\t\\t\\t\",end=\"=>\")\n",
    "    sym2=input(\"\")\n",
    "    sym2=preprocess_sym(sym2)\n",
    "    sim2,psym2=syntactic_similarity(sym2,all_symp_pr)\n",
    "    if sim2==1:\n",
    "        psym2=related_sym(psym2)\n",
    "        \n",
    "    #if check_pattern==0 no similar syntaxic symp1 or symp2 ->> try semantic similarity\n",
    "    \n",
    "    if sim1==0 or sim2==0:\n",
    "        sim1,psym1=semantic_similarity(sym1,all_symp_pr)\n",
    "        sim2,psym2=semantic_similarity(sym2,all_symp_pr)\n",
    "        \n",
    "        #if semantic sim syp1 ==0 (no symp found) ->> suggest possible data symptoms based on all data and input sym synonymes\n",
    "        if sim1==0:\n",
    "            sugg=suggest_syn(sym1)\n",
    "            print('Are you experiencing any ')\n",
    "            for res in sugg:\n",
    "                print(res)\n",
    "                inp=input('')\n",
    "                if inp==\"yes\":\n",
    "                    psym1=res\n",
    "                    sim1=1\n",
    "                    break\n",
    "                \n",
    "        #if semantic sim syp2 ==0 (no symp found) ->> suggest possible data symptoms based on all data and input sym synonymes\n",
    "        if sim2==0:\n",
    "            sugg=suggest_syn(sym2)\n",
    "            for res in sugg:\n",
    "                inp=input('Do you feel '+ res+\" ?(yes or no) \")\n",
    "                if inp==\"yes\":\n",
    "                    psym2=res\n",
    "                    sim2=1\n",
    "                    break\n",
    "        #if no syntaxic semantic and suggested sym found return None and ask for clarification\n",
    "\n",
    "        if sim1==0 and sim2==0:\n",
    "            return None,None\n",
    "        else:\n",
    "            # if at least one sym found ->> duplicate it and proceed\n",
    "            if sim1==0:\n",
    "                psym1=psym2\n",
    "            if sim2==0:\n",
    "                psym2=psym1\n",
    "    #create patient symp list\n",
    "    all_sym=[col_dict[psym1],col_dict[psym2]]\n",
    "    #predict possible diseases\n",
    "    diseases=possible_diseases(all_sym)\n",
    "    stop=False\n",
    "    print(\"Are you experiencing any \")\n",
    "    for dis in diseases:\n",
    "        print(diseases)\n",
    "        if stop==False:\n",
    "            for sym in symVONdisease(df_tr,dis):\n",
    "                if sym not in all_sym:\n",
    "                    print(clean_symp(sym)+' ?')\n",
    "                    while True:\n",
    "                        inp=input(\"\")\n",
    "                        if(inp==\"yes\" or inp==\"no\"):\n",
    "                            break\n",
    "                        else:\n",
    "                            print(\"provide proper answers i.e. (yes/no) : \",end=\"\")\n",
    "                    if inp==\"yes\":\n",
    "                        all_sym.append(sym)\n",
    "                        diseases=possible_diseases(all_sym)\n",
    "                        if len(diseases)==1:\n",
    "                            stop=True \n",
    "    return knn_clf.predict(OHV(all_sym,all_symp_col)),all_sym\n",
    "\n",
    "    \n",
    "    "
   ]
  },
  {
   "cell_type": "code",
   "execution_count": 70,
   "metadata": {
    "tags": []
   },
   "outputs": [],
   "source": [
    "def chat_sp():\n",
    "    a=True\n",
    "    while a:\n",
    "        name=getInfo()\n",
    "        result,sym=main_sp(name,all_symp_col)\n",
    "        if result == None :\n",
    "            ans3=input(\"can you specify more what you feel or tap q to stop the conversation\")\n",
    "            if ans3==\"q\":\n",
    "                a=False\n",
    "            else:\n",
    "                continue\n",
    "\n",
    "        else:\n",
    "            print(\"you may have \"+result[0])\n",
    "            print(description_list[result[0]])\n",
    "            an=input(\"how many day do you feel those symptoms ?\")\n",
    "            if calc_condition(sym,int(an))==1:\n",
    "                print(\"you should take the consultation from doctor\")\n",
    "            else : \n",
    "                print('Take following precautions : ')\n",
    "                for e in precautionDictionary[result[0]]:\n",
    "                    print(e)\n",
    "            print(\"do you need another medical consultation (yes or no)? \")\n",
    "            ans=input()\n",
    "            if ans!=\"yes\":\n",
    "                a=False\n",
    "                print(\"!!!!! thanks for using ower application !!!!!! \")\n"
   ]
  },
  {
   "cell_type": "code",
   "execution_count": 71,
   "metadata": {
    "tags": []
   },
   "outputs": [
    {
     "data": {
      "text/plain": [
       "itching                        0\n",
       "skin_rash                      1\n",
       "nodal_skin_eruptions           0\n",
       "continuous_sneezing            0\n",
       "shivering                      0\n",
       "                          ...   \n",
       "inflammatory_nails             0\n",
       "blister                        1\n",
       "red_sore_around_nose           1\n",
       "yellow_crust_ooze              1\n",
       "prognosis               Impetigo\n",
       "Name: 4919, Length: 133, dtype: object"
      ]
     },
     "execution_count": 71,
     "metadata": {},
     "output_type": "execute_result"
    }
   ],
   "source": [
    "df_tr.iloc[-1]"
   ]
  },
  {
   "cell_type": "code",
   "execution_count": 72,
   "metadata": {
    "tags": []
   },
   "outputs": [
    {
     "name": "stderr",
     "output_type": "stream",
     "text": [
      "/Users/akhilsurnedi/anaconda3/envs/tensorflow/lib/python3.9/site-packages/sklearn/base.py:318: UserWarning: Trying to unpickle estimator KNeighborsClassifier from version 0.24.2 when using version 1.2.2. This might lead to breaking code or invalid results. Use at your own risk. For more info please refer to:\n",
      "https://scikit-learn.org/stable/model_persistence.html#security-maintainability-limitations\n",
      "  warnings.warn(\n"
     ]
    }
   ],
   "source": [
    "import joblib\n",
    "knn_clf=joblib.load('model/knn.pkl')  "
   ]
  },
  {
   "cell_type": "code",
   "execution_count": 73,
   "metadata": {
    "tags": []
   },
   "outputs": [
    {
     "data": {
      "text/plain": [
       "['itching',\n",
       " 'vomiting',\n",
       " 'fatigue',\n",
       " 'weight_loss',\n",
       " 'high_fever',\n",
       " 'yellowish_skin',\n",
       " 'dark_urine',\n",
       " 'abdominal_pain']"
      ]
     },
     "execution_count": 73,
     "metadata": {},
     "output_type": "execute_result"
    }
   ],
   "source": [
    "symVONdisease(df_tr,\"Jaundice\")"
   ]
  },
  {
   "cell_type": "code",
   "execution_count": 74,
   "metadata": {
    "tags": []
   },
   "outputs": [
    {
     "name": "stderr",
     "output_type": "stream",
     "text": [
      "/Users/akhilsurnedi/anaconda3/envs/tensorflow/lib/python3.9/site-packages/sklearn/base.py:432: UserWarning: X has feature names, but KNeighborsClassifier was fitted without feature names\n",
      "  warnings.warn(\n",
      "/Users/akhilsurnedi/anaconda3/envs/tensorflow/lib/python3.9/site-packages/sklearn/utils/validation.py:767: FutureWarning: is_sparse is deprecated and will be removed in a future version. Check `isinstance(dtype, pd.SparseDtype)` instead.\n",
      "  if not hasattr(array, \"sparse\") and array.dtypes.apply(is_sparse).any():\n",
      "/Users/akhilsurnedi/anaconda3/envs/tensorflow/lib/python3.9/site-packages/sklearn/utils/validation.py:605: FutureWarning: is_sparse is deprecated and will be removed in a future version. Check `isinstance(dtype, pd.SparseDtype)` instead.\n",
      "  if is_sparse(pd_dtype):\n",
      "/Users/akhilsurnedi/anaconda3/envs/tensorflow/lib/python3.9/site-packages/sklearn/utils/validation.py:614: FutureWarning: is_sparse is deprecated and will be removed in a future version. Check `isinstance(dtype, pd.SparseDtype)` instead.\n",
      "  if is_sparse(pd_dtype) or not is_extension_array_dtype(pd_dtype):\n"
     ]
    },
    {
     "data": {
      "text/plain": [
       "array(['Jaundice'], dtype=object)"
      ]
     },
     "execution_count": 74,
     "metadata": {},
     "output_type": "execute_result"
    }
   ],
   "source": [
    "knn_clf.predict(OHV(['fatigue', 'weight_loss', 'itching','high_fever'],all_symp_col))"
   ]
  },
  {
   "cell_type": "code",
   "execution_count": 75,
   "metadata": {
    "tags": []
   },
   "outputs": [],
   "source": [
    "d=df_tr[df_tr.iloc[:,-1]==\"Fungal infection\"].sum(axis=0)"
   ]
  },
  {
   "cell_type": "code",
   "execution_count": 76,
   "metadata": {
    "tags": []
   },
   "outputs": [],
   "source": [
    "cl=df_tr.columns"
   ]
  },
  {
   "cell_type": "code",
   "execution_count": 77,
   "metadata": {
    "tags": []
   },
   "outputs": [],
   "source": [
    "pp=d!=0"
   ]
  },
  {
   "cell_type": "code",
   "execution_count": 78,
   "metadata": {
    "tags": []
   },
   "outputs": [
    {
     "data": {
      "text/plain": [
       "Index(['itching', 'skin_rash', 'nodal_skin_eruptions', 'dischromic _patches',\n",
       "       'prognosis'],\n",
       "      dtype='object')"
      ]
     },
     "execution_count": 78,
     "metadata": {},
     "output_type": "execute_result"
    }
   ],
   "source": [
    "cl[pp]"
   ]
  },
  {
   "cell_type": "code",
   "execution_count": 79,
   "metadata": {
    "tags": []
   },
   "outputs": [
    {
     "data": {
      "text/plain": [
       "itching                 108\n",
       "skin_rash               108\n",
       "nodal_skin_eruptions    108\n",
       "dischromic _patches     108\n",
       "dtype: object"
      ]
     },
     "execution_count": 79,
     "metadata": {},
     "output_type": "execute_result"
    }
   ],
   "source": [
    "d[pp].drop('prognosis')"
   ]
  },
  {
   "cell_type": "code",
   "execution_count": null,
   "metadata": {
    "tags": []
   },
   "outputs": [
    {
     "name": "stdout",
     "output_type": "stream",
     "text": [
      "Your Name \n",
      "\t\t\t\t\t\t=>"
     ]
    },
    {
     "name": "stdin",
     "output_type": "stream",
     "text": [
      " Akhil\n"
     ]
    },
    {
     "name": "stdout",
     "output_type": "stream",
     "text": [
      "hello  Akhil\n",
      "Enter the main symptom you are experiencing Mr/Ms Akhil  \n",
      "\t\t\t\t\t\t=>"
     ]
    },
    {
     "name": "stdin",
     "output_type": "stream",
     "text": [
      " Fever\n"
     ]
    },
    {
     "name": "stdout",
     "output_type": "stream",
     "text": [
      "searches related to input: \n",
      "0 ) mild fever\n",
      "1 ) high fever\n",
      "Select the one you meant (0 - 1):  "
     ]
    },
    {
     "name": "stdin",
     "output_type": "stream",
     "text": [
      " 0\n"
     ]
    },
    {
     "name": "stdout",
     "output_type": "stream",
     "text": [
      "Enter a second symptom you are experiencing Mr/Ms Akhil  \n",
      "\t\t\t\t\t\t=>"
     ]
    },
    {
     "name": "stdin",
     "output_type": "stream",
     "text": [
      " vomiting\n"
     ]
    },
    {
     "name": "stdout",
     "output_type": "stream",
     "text": [
      "Are you experiencing any \n",
      "['Tuberculosis', 'hepatitis A']\n",
      "chills ?\n"
     ]
    },
    {
     "name": "stdin",
     "output_type": "stream",
     "text": [
      " chills\n"
     ]
    },
    {
     "name": "stdout",
     "output_type": "stream",
     "text": [
      "provide proper answers i.e. (yes/no) : "
     ]
    },
    {
     "name": "stdin",
     "output_type": "stream",
     "text": [
      " yes\n"
     ]
    },
    {
     "name": "stdout",
     "output_type": "stream",
     "text": [
      "fatigue ?\n"
     ]
    },
    {
     "name": "stdin",
     "output_type": "stream",
     "text": [
      " no\n"
     ]
    },
    {
     "name": "stdout",
     "output_type": "stream",
     "text": [
      "weight loss ?\n"
     ]
    },
    {
     "name": "stdin",
     "output_type": "stream",
     "text": [
      " no\n"
     ]
    },
    {
     "name": "stdout",
     "output_type": "stream",
     "text": [
      "cough ?\n"
     ]
    },
    {
     "name": "stdin",
     "output_type": "stream",
     "text": [
      " no\n"
     ]
    },
    {
     "name": "stdout",
     "output_type": "stream",
     "text": [
      "high fever ?\n"
     ]
    },
    {
     "name": "stdin",
     "output_type": "stream",
     "text": [
      " no\n"
     ]
    },
    {
     "name": "stdout",
     "output_type": "stream",
     "text": [
      "breathlessness ?\n"
     ]
    },
    {
     "name": "stdin",
     "output_type": "stream",
     "text": [
      " no\n"
     ]
    },
    {
     "name": "stdout",
     "output_type": "stream",
     "text": [
      "sweating ?\n"
     ]
    },
    {
     "name": "stdin",
     "output_type": "stream",
     "text": [
      " no\n"
     ]
    },
    {
     "name": "stdout",
     "output_type": "stream",
     "text": [
      "loss of appetite ?\n"
     ]
    },
    {
     "name": "stdin",
     "output_type": "stream",
     "text": [
      " no\n"
     ]
    },
    {
     "name": "stdout",
     "output_type": "stream",
     "text": [
      "yellow of eyes ?\n"
     ]
    },
    {
     "name": "stdin",
     "output_type": "stream",
     "text": [
      " no\n"
     ]
    },
    {
     "name": "stdout",
     "output_type": "stream",
     "text": [
      "swelled lymph nodes ?\n"
     ]
    },
    {
     "name": "stdin",
     "output_type": "stream",
     "text": [
      " no\n"
     ]
    },
    {
     "name": "stdout",
     "output_type": "stream",
     "text": [
      "malaise ?\n"
     ]
    },
    {
     "name": "stdin",
     "output_type": "stream",
     "text": [
      " no\n"
     ]
    },
    {
     "name": "stdout",
     "output_type": "stream",
     "text": [
      "phlegm ?\n"
     ]
    },
    {
     "name": "stdin",
     "output_type": "stream",
     "text": [
      " no\n"
     ]
    },
    {
     "name": "stdout",
     "output_type": "stream",
     "text": [
      "chest pain ?\n"
     ]
    },
    {
     "name": "stdin",
     "output_type": "stream",
     "text": [
      " no\n"
     ]
    },
    {
     "name": "stdout",
     "output_type": "stream",
     "text": [
      "blood in sputum ?\n"
     ]
    },
    {
     "name": "stdin",
     "output_type": "stream",
     "text": [
      " no\n"
     ]
    },
    {
     "name": "stderr",
     "output_type": "stream",
     "text": [
      "/Users/akhilsurnedi/anaconda3/envs/tensorflow/lib/python3.9/site-packages/sklearn/base.py:432: UserWarning: X has feature names, but KNeighborsClassifier was fitted without feature names\n",
      "  warnings.warn(\n",
      "/Users/akhilsurnedi/anaconda3/envs/tensorflow/lib/python3.9/site-packages/sklearn/utils/validation.py:767: FutureWarning: is_sparse is deprecated and will be removed in a future version. Check `isinstance(dtype, pd.SparseDtype)` instead.\n",
      "  if not hasattr(array, \"sparse\") and array.dtypes.apply(is_sparse).any():\n",
      "/Users/akhilsurnedi/anaconda3/envs/tensorflow/lib/python3.9/site-packages/sklearn/utils/validation.py:605: FutureWarning: is_sparse is deprecated and will be removed in a future version. Check `isinstance(dtype, pd.SparseDtype)` instead.\n",
      "  if is_sparse(pd_dtype):\n",
      "/Users/akhilsurnedi/anaconda3/envs/tensorflow/lib/python3.9/site-packages/sklearn/utils/validation.py:614: FutureWarning: is_sparse is deprecated and will be removed in a future version. Check `isinstance(dtype, pd.SparseDtype)` instead.\n",
      "  if is_sparse(pd_dtype) or not is_extension_array_dtype(pd_dtype):\n"
     ]
    },
    {
     "name": "stdout",
     "output_type": "stream",
     "text": [
      "['Tuberculosis']\n",
      "you may have Allergy\n",
      "An allergy is an immune system response to a foreign substance that's not typically harmful to your body.They can include certain foods, pollen, or pet dander. Your immune system's job is to keep you healthy by fighting harmful pathogens.\n"
     ]
    }
   ],
   "source": [
    "chat_sp()"
   ]
  },
  {
   "cell_type": "code",
   "execution_count": null,
   "metadata": {},
   "outputs": [],
   "source": []
  }
 ],
 "metadata": {
  "kernelspec": {
   "display_name": "Python 3 (ipykernel)",
   "language": "python",
   "name": "python3"
  },
  "language_info": {
   "codemirror_mode": {
    "name": "ipython",
    "version": 3
   },
   "file_extension": ".py",
   "mimetype": "text/x-python",
   "name": "python",
   "nbconvert_exporter": "python",
   "pygments_lexer": "ipython3",
   "version": "3.9.16"
  }
 },
 "nbformat": 4,
 "nbformat_minor": 4
}
